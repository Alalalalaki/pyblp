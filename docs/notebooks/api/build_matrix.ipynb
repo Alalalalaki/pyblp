{
 "cells": [
  {
   "cell_type": "markdown",
   "metadata": {},
   "source": [
    "# Building a Matrix Example"
   ]
  },
  {
   "cell_type": "code",
   "execution_count": 10,
   "metadata": {},
   "outputs": [],
   "source": [
    "import pyblp\n",
    "import numpy as np"
   ]
  },
  {
   "cell_type": "markdown",
   "metadata": {},
   "source": [
    "In this example, we'll load the fake cereal data from [Nevo (2000)](../../references.rst#nevo-2000) and create a simple matrix involving a constant, prices, and shares."
   ]
  },
  {
   "cell_type": "code",
   "execution_count": 2,
   "metadata": {},
   "outputs": [
    {
     "data": {
      "text/plain": [
       "1 + prices + shares"
      ]
     },
     "execution_count": 2,
     "metadata": {},
     "output_type": "execute_result"
    }
   ],
   "source": [
    "formulation = pyblp.Formulation(f'1 + prices + shares')\n",
    "formulation"
   ]
  },
  {
   "cell_type": "code",
   "execution_count": 8,
   "metadata": {},
   "outputs": [
    {
     "data": {
      "text/plain": [
       "('market_ids',\n",
       " 'city_ids',\n",
       " 'quarter',\n",
       " 'product_ids',\n",
       " 'firm_ids0',\n",
       " 'firm_ids1',\n",
       " 'brand_ids',\n",
       " 'shares',\n",
       " 'prices',\n",
       " 'sugar',\n",
       " 'mushy',\n",
       " 'demand_instruments0',\n",
       " 'demand_instruments1',\n",
       " 'demand_instruments2',\n",
       " 'demand_instruments3',\n",
       " 'demand_instruments4',\n",
       " 'demand_instruments5',\n",
       " 'demand_instruments6',\n",
       " 'demand_instruments7',\n",
       " 'demand_instruments8',\n",
       " 'demand_instruments9',\n",
       " 'demand_instruments10',\n",
       " 'demand_instruments11',\n",
       " 'demand_instruments12',\n",
       " 'demand_instruments13',\n",
       " 'demand_instruments14',\n",
       " 'demand_instruments15',\n",
       " 'demand_instruments16',\n",
       " 'demand_instruments17',\n",
       " 'demand_instruments18',\n",
       " 'demand_instruments19')"
      ]
     },
     "execution_count": 8,
     "metadata": {},
     "output_type": "execute_result"
    }
   ],
   "source": [
    "product_data = np.recfromcsv(pyblp.data.NEVO_PRODUCTS_LOCATION, encoding='utf-8')\n",
    "product_data.dtype.names"
   ]
  },
  {
   "cell_type": "code",
   "execution_count": 12,
   "metadata": {},
   "outputs": [
    {
     "data": {
      "text/plain": [
       "array([[1.  , 0.07, 0.01],\n",
       "       [1.  , 0.11, 0.01],\n",
       "       [1.  , 0.13, 0.01],\n",
       "       ...,\n",
       "       [1.  , 0.14, 0.  ],\n",
       "       [1.  , 0.1 , 0.01],\n",
       "       [1.  , 0.13, 0.03]])"
      ]
     },
     "execution_count": 12,
     "metadata": {},
     "output_type": "execute_result"
    }
   ],
   "source": [
    "matrix = pyblp.build_matrix(formulation, product_data)\n",
    "matrix"
   ]
  }
 ],
 "metadata": {
  "kernelspec": {
   "display_name": "Python 3",
   "language": "python",
   "name": "python3"
  },
  "language_info": {
   "codemirror_mode": {
    "name": "ipython",
    "version": 3
   },
   "file_extension": ".py",
   "mimetype": "text/x-python",
   "name": "python",
   "nbconvert_exporter": "python",
   "pygments_lexer": "ipython3",
   "version": "3.6.6"
  }
 },
 "nbformat": 4,
 "nbformat_minor": 2
}
