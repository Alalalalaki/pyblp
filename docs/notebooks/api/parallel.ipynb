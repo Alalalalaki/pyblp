{
 "cells": [
  {
   "cell_type": "markdown",
   "metadata": {},
   "source": [
    "# Parallel Processing Example"
   ]
  },
  {
   "cell_type": "code",
   "execution_count": 1,
   "metadata": {},
   "outputs": [],
   "source": [
    "import pyblp\n",
    "import numpy as np\n",
    "\n",
    "pyblp.options.digits = 3\n",
    "pyblp.options.verbose = False"
   ]
  },
  {
   "cell_type": "markdown",
   "metadata": {},
   "source": [
    "In this example, we'll use parallel processing to compute elasticities market-by-market for a simple Logit problem configured with some of the fake cereal data from [Nevo (2000)](../../references.rst#nevo-2000)."
   ]
  },
  {
   "cell_type": "code",
   "execution_count": 3,
   "metadata": {},
   "outputs": [
    {
     "data": {
      "text/plain": [
       "Problem Results Summary:\n",
       "===========================================================================================================\n",
       "Cumulative  GMM   Optimization   Objective   Total Fixed Point  Total Contraction  Objective    Gradient   \n",
       "Total Time  Step   Iterations   Evaluations     Iterations         Evaluations       Value    Infinity Norm\n",
       "----------  ----  ------------  -----------  -----------------  -----------------  ---------  -------------\n",
       " 0:00:00     2         0             1              0.0                0.0         +4.23E+05       NA      \n",
       "===========================================================================================================\n",
       "\n",
       "Linear Estimates (Robust SEs in Parentheses):\n",
       "==================\n",
       "Beta:    prices   \n",
       "-----  -----------\n",
       "        -3.00E+01 \n",
       "       (+1.01E+00)\n",
       "=================="
      ]
     },
     "execution_count": 3,
     "metadata": {},
     "output_type": "execute_result"
    }
   ],
   "source": [
    "product_data = np.recfromcsv(pyblp.data.NEVO_PRODUCTS_LOCATION, encoding='utf-8')\n",
    "formulation = pyblp.Formulation('0 + prices', absorb='C(product_ids)')\n",
    "problem = pyblp.Problem(formulation, product_data)\n",
    "results = problem.solve()\n",
    "results"
   ]
  },
  {
   "cell_type": "code",
   "execution_count": 6,
   "metadata": {
    "scrolled": true
   },
   "outputs": [
    {
     "name": "stdout",
     "output_type": "stream",
     "text": [
      "Starting a pool of 2 processes ...\n",
      "Started the process pool after 0:00:00.\n",
      "Computing elasticities with respect to prices ...\n",
      "Finished after 0:00:01.\n",
      "\n",
      "Terminating the pool of 2 processes ...\n",
      "Terminated the process pool after 0:00:00.\n"
     ]
    }
   ],
   "source": [
    "pyblp.options.verbose = True\n",
    "with pyblp.parallel(2):\n",
    "    elasticities = results.compute_elasticities()"
   ]
  },
  {
   "cell_type": "markdown",
   "metadata": {},
   "source": [
    "Solving a Logit problem does not require market-by-market computation, so parallelization does not change its estimation procedure. Although elasticity computation does happen market-by-market, this problem is very small, so there are no gains from parallelization in this example.\n",
    "\n",
    "If the problem were much larger, running ``Problem.solve`` and ``ProblemResults.compute_elasticities`` under the ``with`` statement could substantially speed up estimation and elasticity computation."
   ]
  }
 ],
 "metadata": {
  "kernelspec": {
   "display_name": "Python 3",
   "language": "python",
   "name": "python3"
  },
  "language_info": {
   "codemirror_mode": {
    "name": "ipython",
    "version": 3
   },
   "file_extension": ".py",
   "mimetype": "text/x-python",
   "name": "python",
   "nbconvert_exporter": "python",
   "pygments_lexer": "ipython3",
   "version": "3.6.6"
  }
 },
 "nbformat": 4,
 "nbformat_minor": 2
}
