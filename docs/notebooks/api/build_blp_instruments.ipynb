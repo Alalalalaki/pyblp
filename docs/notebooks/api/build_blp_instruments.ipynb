{
 "cells": [
  {
   "cell_type": "markdown",
   "metadata": {},
   "source": [
    "# Building BLP Instruments Example"
   ]
  },
  {
   "cell_type": "code",
   "execution_count": 5,
   "metadata": {},
   "outputs": [],
   "source": [
    "import pyblp\n",
    "import numpy as np"
   ]
  },
  {
   "cell_type": "markdown",
   "metadata": {},
   "source": [
    "In this example, we'll load the automobile product data from :ref:`references:Berry, Levinsohn, and Pakes (1995)` and build some very simple excluded demand-side instruments for the problem. These instruments are different from the pre-built ones included in the automobile product data file."
   ]
  },
  {
   "cell_type": "code",
   "execution_count": 2,
   "metadata": {},
   "outputs": [
    {
     "data": {
      "text/plain": [
       "1 + hpwt + air + mpd + space"
      ]
     },
     "execution_count": 2,
     "metadata": {},
     "output_type": "execute_result"
    }
   ],
   "source": [
    "formulation = pyblp.Formulation('1 + hpwt + air + mpd + space')\n",
    "formulation"
   ]
  },
  {
   "cell_type": "code",
   "execution_count": 6,
   "metadata": {},
   "outputs": [
    {
     "data": {
      "text/plain": [
       "('market_ids',\n",
       " 'clustering_ids',\n",
       " 'car_ids',\n",
       " 'firm_ids0',\n",
       " 'firm_ids1',\n",
       " 'domestic',\n",
       " 'japan',\n",
       " 'european',\n",
       " 'shares',\n",
       " 'prices',\n",
       " 'hpwt',\n",
       " 'air',\n",
       " 'mpd',\n",
       " 'mpg',\n",
       " 'space',\n",
       " 'trend',\n",
       " 'demand_instruments0',\n",
       " 'demand_instruments1',\n",
       " 'demand_instruments2',\n",
       " 'demand_instruments3',\n",
       " 'demand_instruments4',\n",
       " 'demand_instruments5',\n",
       " 'supply_instruments0',\n",
       " 'supply_instruments1',\n",
       " 'supply_instruments2',\n",
       " 'supply_instruments3',\n",
       " 'supply_instruments4',\n",
       " 'supply_instruments5')"
      ]
     },
     "execution_count": 6,
     "metadata": {},
     "output_type": "execute_result"
    }
   ],
   "source": [
    "product_data = np.recfromcsv(pyblp.data.BLP_PRODUCTS_LOCATION, encoding='utf-8')\n",
    "product_data.dtype.names"
   ]
  },
  {
   "cell_type": "code",
   "execution_count": 7,
   "metadata": {},
   "outputs": [
    {
     "data": {
      "text/plain": [
       "(2217, 10)"
      ]
     },
     "execution_count": 7,
     "metadata": {},
     "output_type": "execute_result"
    }
   ],
   "source": [
    "instruments = pyblp.build_blp_instruments(formulation, product_data)\n",
    "instruments.shape"
   ]
  }
 ],
 "metadata": {
  "kernelspec": {
   "display_name": "Python 3",
   "language": "python",
   "name": "python3"
  },
  "language_info": {
   "codemirror_mode": {
    "name": "ipython",
    "version": 3
   },
   "file_extension": ".py",
   "mimetype": "text/x-python",
   "name": "python",
   "nbconvert_exporter": "python",
   "pygments_lexer": "ipython3",
   "version": "3.6.6"
  }
 },
 "nbformat": 4,
 "nbformat_minor": 2
}
