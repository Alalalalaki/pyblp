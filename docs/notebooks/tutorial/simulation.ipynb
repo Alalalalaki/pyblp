{
 "cells": [
  {
   "cell_type": "markdown",
   "metadata": {},
   "source": [
    "# Simulating Problems"
   ]
  },
  {
   "cell_type": "code",
   "execution_count": 1,
   "metadata": {},
   "outputs": [
    {
     "data": {
      "text/plain": [
       "'0.5.0'"
      ]
     },
     "execution_count": 1,
     "metadata": {},
     "output_type": "execute_result"
    }
   ],
   "source": [
    "import pyblp\n",
    "import numpy as np\n",
    "\n",
    "pyblp.options.digits = 3\n",
    "pyblp.options.verbose = False\n",
    "np.set_printoptions(precision=2, threshold=10, linewidth=100)\n",
    "pyblp.__version__"
   ]
  },
  {
   "cell_type": "markdown",
   "metadata": {},
   "source": [
    "Before configuring and solving a problem with real data, papers such as :ref:`references:Armstrong (2016)` recommend performing Monte Carlo analysis on simulated data to verify that it is possible to accurately estimate model parameters. For example, before configuring and solving the above automobile problem, it may have been a good idea to simulate data according to the assumed models of supply and demand. During such Monte Carlo anaysis, the data would only be used to determine sample sizes and perhaps to choose true parameters that are within reason.\n",
    "\n",
    "Simulations are configured with the :class:`Simulation` class, which requires much of the same inputs as the :class:`Problem` class. The two main differences are:\n",
    "\n",
    "1. Variables in formulations that cannot be loaded from `product_data` or `agent_data` will be drawn from independent uniform distributions.\n",
    "2. True parameters along with the distribution of unobserved product characteristics are both specified.\n",
    "\n",
    "First, we'll use :func:`build_id_data` to build market and firm IDs for a model in which there are $T = 50$ markets, and in each market $t$, $J_t = 20$ products produced by $F_t = 10$ firms."
   ]
  },
  {
   "cell_type": "code",
   "execution_count": 2,
   "metadata": {},
   "outputs": [],
   "source": [
    "id_data = pyblp.build_id_data(T=50, J=20, F=10)"
   ]
  },
  {
   "cell_type": "markdown",
   "metadata": {},
   "source": [
    "Next, we'll configure :class:`Integration` to build agent data according to a level-`5` Gauss-Hermite product rule."
   ]
  },
  {
   "cell_type": "code",
   "execution_count": 3,
   "metadata": {},
   "outputs": [
    {
     "data": {
      "text/plain": [
       "Configured to construct nodes and weights according to the level-5 Gauss-Hermite product rule."
      ]
     },
     "execution_count": 3,
     "metadata": {},
     "output_type": "execute_result"
    }
   ],
   "source": [
    "integration = pyblp.Integration('product', 5)\n",
    "integration"
   ]
  },
  {
   "cell_type": "markdown",
   "metadata": {},
   "source": [
    "We'll then pass these data and configuration to :class:`Simulation`."
   ]
  },
  {
   "cell_type": "code",
   "execution_count": 4,
   "metadata": {},
   "outputs": [
    {
     "data": {
      "text/plain": [
       "Dimensions:\n",
       "============================================\n",
       " N     T    K1    K2    K3    D    MD    MS \n",
       "----  ---  ----  ----  ----  ---  ----  ----\n",
       "1000  50    3     1     2     1    7     7  \n",
       "============================================\n",
       "\n",
       "Formulations:\n",
       "===================================================\n",
       "       Column Indices:           0       1      2  \n",
       "-----------------------------  ------  -----  -----\n",
       " X1: Linear Characteristics    prices    x      y  \n",
       "X2: Nonlinear Characteristics    y                 \n",
       "  X3: Cost Characteristics       x       z         \n",
       "       d: Demographics           d                 \n",
       "===================================================\n",
       "\n",
       "Linear Parameters:\n",
       "=============================================\n",
       "Beta:     prices          x            y     \n",
       "------  -----------  -----------  -----------\n",
       "         -5.00E+00    +1.00E+00    +1.00E+00 \n",
       "=============================================\n",
       "Gamma:       x            z                  \n",
       "------  -----------  -----------             \n",
       "         +2.00E+00    +2.00E+00              \n",
       "=============================================\n",
       "\n",
       "Nonlinear Parameters:\n",
       "===========================================\n",
       "Sigma:       y       |   Pi:         d     \n",
       "------  -----------  |  ------  -----------\n",
       "  y      +5.00E-01   |    y      +3.00E+00 \n",
       "==========================================="
      ]
     },
     "execution_count": 4,
     "metadata": {},
     "output_type": "execute_result"
    }
   ],
   "source": [
    "simulation = pyblp.Simulation(\n",
    "   product_formulations=(\n",
    "       pyblp.Formulation('0 + prices + x + y'),\n",
    "       pyblp.Formulation('0 + y'),\n",
    "       pyblp.Formulation('0 + x + z')\n",
    "   ),\n",
    "   beta=[-5, 1, 1],\n",
    "   sigma=0.5,\n",
    "   gamma=[2, 2],\n",
    "   product_data=id_data,\n",
    "   agent_formulation=pyblp.Formulation('0 + d'),\n",
    "   pi=3,\n",
    "   integration=integration,\n",
    "   seed=0\n",
    ")\n",
    "simulation"
   ]
  },
  {
   "cell_type": "markdown",
   "metadata": {},
   "source": [
    "When :class:`Simulation` is initialized, it constructs agent data and simulates all product data except for prices and shares."
   ]
  },
  {
   "cell_type": "code",
   "execution_count": 5,
   "metadata": {},
   "outputs": [
    {
     "data": {
      "text/plain": [
       "rec.array([([0], [0], [0.], [0.], [8.12e-01, 7.15e-01, 1.01e-02, 1.04e+01, 7.78e+00], [5.93e-01, 7.15e-01, 4.76e-01, 1.04e+01, 6.73e+00], [0.55], [0.59], [0.81]),\n",
       "           ([0], [0], [0.], [0.], [4.76e-01, 5.49e-01, 5.93e-01, 1.04e+01, 7.78e+00], [1.01e-02, 5.49e-01, 8.12e-01, 1.04e+01, 6.73e+00], [0.72], [0.01], [0.48]),\n",
       "           ([0], [1], [0.], [0.], [5.23e-01, 5.45e-01, 7.09e-01, 1.05e+01, 7.20e+00], [4.76e-01, 5.45e-01, 2.51e-01, 1.05e+01, 7.25e+00], [0.6 ], [0.48], [0.52]),\n",
       "           ...,\n",
       "           ([49], [8], [0.], [0.], [3.24e-01, 5.15e-01, 7.21e-01, 9.93e+00, 1.01e+01], [4.80e-01, 5.15e-01, 5.46e-01, 9.93e+00, 8.93e+00], [0.94], [0.48], [0.32]),\n",
       "           ([49], [9], [0.], [0.], [8.14e-01, 6.77e-01, 5.02e-01, 1.05e+01, 1.01e+01], [6.44e-01, 6.77e-01, 6.97e-01, 1.05e+01, 8.29e+00], [0.23], [0.64], [0.81]),\n",
       "           ([49], [9], [0.], [0.], [6.97e-01, 2.29e-01, 6.44e-01, 1.05e+01, 1.01e+01], [5.02e-01, 2.29e-01, 8.14e-01, 1.05e+01, 8.29e+00], [0.68], [0.5 ], [0.7 ])],\n",
       "          dtype=[('market_ids', 'O', (1,)), ('firm_ids', 'O', (1,)), ('shares', '<f8', (1,)), ('prices', '<f8', (1,)), ('demand_instruments', '<f8', (5,)), ('supply_instruments', '<f8', (5,)), ('x', '<f8', (1,)), ('y', '<f8', (1,)), ('z', '<f8', (1,))])"
      ]
     },
     "execution_count": 5,
     "metadata": {},
     "output_type": "execute_result"
    }
   ],
   "source": [
    "simulation.product_data"
   ]
  },
  {
   "cell_type": "code",
   "execution_count": 6,
   "metadata": {},
   "outputs": [
    {
     "data": {
      "text/plain": [
       "rec.array([([0], [-2.86], [0.01], [0.41]), ([0], [-1.36], [0.22], [0.63]),\n",
       "           ([0], [ 0.  ], [0.53], [0.78]), ..., ([49], [ 0.  ], [0.53], [0.94]),\n",
       "           ([49], [ 1.36], [0.22], [0.93]), ([49], [ 2.86], [0.01], [0.01])],\n",
       "          dtype=[('market_ids', 'O', (1,)), ('nodes', '<f8', (1,)), ('weights', '<f8', (1,)), ('d', '<f8', (1,))])"
      ]
     },
     "execution_count": 6,
     "metadata": {},
     "output_type": "execute_result"
    }
   ],
   "source": [
    "simulation.agent_data"
   ]
  },
  {
   "cell_type": "markdown",
   "metadata": {},
   "source": [
    "The excluded instruments in :attr:`Simulation.product_data` include basic instruments computed with :func:`build_blp_instruments` that are functions of all exogenous numerical variables in the problem. In this example, excluded demand-side instruments are four columns of traditional BLP instruments based on `x` and `y`, along with the cost-shifter `z`. Excluded supply-side instruments are traditional BLP instruments based on `x` and `z`, along with `y`.\n",
    "\n",
    "The :class:`Simulation` can be further configured with other arguments that determine how unobserved product characteristics are simulated and how marginal costs are specified.\n",
    "\n",
    "Since at this stage prices and shares are all zeros, we still need to solve the simulation with :meth:`Simulation.solve`. This method computes synthetic prices and shares. Just like :meth:`ProblemResults.compute_prices`, to do so it iterates over the $\\zeta$-markup equation from :ref:`references:Morrow and Skerlos (2011)`."
   ]
  },
  {
   "cell_type": "code",
   "execution_count": 7,
   "metadata": {},
   "outputs": [
    {
     "data": {
      "text/plain": [
       "Simulation Results Summary:\n",
       "=====================================\n",
       "Computation  Fixed Point  Contraction\n",
       "   Time      Iterations   Evaluations\n",
       "-----------  -----------  -----------\n",
       "  0:00:00        732          732    \n",
       "====================================="
      ]
     },
     "execution_count": 7,
     "metadata": {},
     "output_type": "execute_result"
    }
   ],
   "source": [
    "simulation_results = simulation.solve()\n",
    "simulation_results"
   ]
  },
  {
   "cell_type": "markdown",
   "metadata": {},
   "source": [
    "Now, we can try to recover the true parameters by creating and solving a :class:`Problem`. By default, the convenience method :meth:`SimulationResults.to_problem` uses the same formulations and unobserved agent data as the simulation, so estimation is relatively easy. However, we'll choose starting values that are half the true parameters so that the optimization routine has to do some work."
   ]
  },
  {
   "cell_type": "code",
   "execution_count": 8,
   "metadata": {},
   "outputs": [
    {
     "data": {
      "text/plain": [
       "Dimensions:\n",
       "============================================\n",
       " N     T    K1    K2    K3    D    MD    MS \n",
       "----  ---  ----  ----  ----  ---  ----  ----\n",
       "1000  50    3     1     2     1    7     7  \n",
       "============================================\n",
       "\n",
       "Formulations:\n",
       "===================================================\n",
       "       Column Indices:           0       1      2  \n",
       "-----------------------------  ------  -----  -----\n",
       " X1: Linear Characteristics    prices    x      y  \n",
       "X2: Nonlinear Characteristics    y                 \n",
       "  X3: Cost Characteristics       x       z         \n",
       "       d: Demographics           d                 \n",
       "==================================================="
      ]
     },
     "execution_count": 8,
     "metadata": {},
     "output_type": "execute_result"
    }
   ],
   "source": [
    "problem = simulation_results.to_problem()\n",
    "problem"
   ]
  },
  {
   "cell_type": "code",
   "execution_count": 9,
   "metadata": {},
   "outputs": [
    {
     "data": {
      "text/plain": [
       "Problem Results Summary:\n",
       "===========================================================================================================\n",
       "Cumulative  GMM   Optimization   Objective   Total Fixed Point  Total Contraction  Objective    Gradient   \n",
       "Total Time  Step   Iterations   Evaluations     Iterations         Evaluations       Value    Infinity Norm\n",
       "----------  ----  ------------  -----------  -----------------  -----------------  ---------  -------------\n",
       " 0:00:04     2         5             8             7355               22450        +8.64E+03    +7.74E-03  \n",
       "===========================================================================================================\n",
       "\n",
       "Linear Estimates (Robust SEs in Parentheses):\n",
       "=============================================\n",
       "Beta:     prices          x            y     \n",
       "------  -----------  -----------  -----------\n",
       "         -4.95E+00    +8.87E-01    +9.21E-01 \n",
       "        (+5.90E-02)  (+2.06E-01)  (+3.32E+00)\n",
       "=============================================\n",
       "Gamma:       x            z                  \n",
       "------  -----------  -----------             \n",
       "         +1.95E+00    +2.10E+00              \n",
       "        (+1.14E-01)  (+1.15E-01)             \n",
       "=============================================\n",
       "\n",
       "Nonlinear Estimates (Robust SEs in Parentheses):\n",
       "===========================================\n",
       "Sigma:       y       |   Pi:         d     \n",
       "------  -----------  |  ------  -----------\n",
       "  y      +4.77E-02   |    y      +3.09E+00 \n",
       "        (+8.14E+00)  |          (+6.21E+00)\n",
       "==========================================="
      ]
     },
     "execution_count": 9,
     "metadata": {},
     "output_type": "execute_result"
    }
   ],
   "source": [
    "problem_results = problem.solve(\n",
    "   0.5 * simulation.sigma, \n",
    "   0.5 * simulation.pi,\n",
    ")\n",
    "problem_results"
   ]
  },
  {
   "cell_type": "code",
   "execution_count": 10,
   "metadata": {},
   "outputs": [
    {
     "data": {
      "text/plain": [
       "array([[-5.],\n",
       "       [ 1.],\n",
       "       [ 1.]])"
      ]
     },
     "execution_count": 10,
     "metadata": {},
     "output_type": "execute_result"
    }
   ],
   "source": [
    "simulation.beta"
   ]
  },
  {
   "cell_type": "code",
   "execution_count": 11,
   "metadata": {},
   "outputs": [
    {
     "data": {
      "text/plain": [
       "array([[2.],\n",
       "       [2.]])"
      ]
     },
     "execution_count": 11,
     "metadata": {},
     "output_type": "execute_result"
    }
   ],
   "source": [
    "simulation.gamma"
   ]
  },
  {
   "cell_type": "code",
   "execution_count": 12,
   "metadata": {},
   "outputs": [
    {
     "data": {
      "text/plain": [
       "array([[0.5]])"
      ]
     },
     "execution_count": 12,
     "metadata": {},
     "output_type": "execute_result"
    }
   ],
   "source": [
    "simulation.sigma"
   ]
  },
  {
   "cell_type": "code",
   "execution_count": 13,
   "metadata": {},
   "outputs": [
    {
     "data": {
      "text/plain": [
       "array([[3.]])"
      ]
     },
     "execution_count": 13,
     "metadata": {},
     "output_type": "execute_result"
    }
   ],
   "source": [
    "simulation.pi"
   ]
  },
  {
   "cell_type": "markdown",
   "metadata": {},
   "source": [
    "The parameters seem to have been estimated reasonably well.\n",
    "\n",
    "In addition to checking that the configuration for a model based on actual data makes sense, the :class:`Simulation` class can also be a helpful tool for better understanding under what general conditions BLP models can be accurately estimated. Simulations are also used extensively in pyblp's test suite."
   ]
  }
 ],
 "metadata": {
  "kernelspec": {
   "display_name": "Python 3",
   "language": "python",
   "name": "python3"
  },
  "language_info": {
   "codemirror_mode": {
    "name": "ipython",
    "version": 3
   },
   "file_extension": ".py",
   "mimetype": "text/x-python",
   "name": "python",
   "nbconvert_exporter": "python",
   "pygments_lexer": "ipython3",
   "version": "3.6.6"
  }
 },
 "nbformat": 4,
 "nbformat_minor": 2
}
