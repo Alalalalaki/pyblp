{
 "cells": [
  {
   "cell_type": "markdown",
   "metadata": {},
   "source": [
    "# Post-Estimation Tutorial"
   ]
  },
  {
   "cell_type": "code",
   "execution_count": 1,
   "metadata": {},
   "outputs": [
    {
     "data": {
      "text/plain": [
       "'0.7.0'"
      ]
     },
     "execution_count": 1,
     "metadata": {},
     "output_type": "execute_result"
    }
   ],
   "source": [
    "%matplotlib inline\n",
    "\n",
    "import pyblp\n",
    "import numpy as np\n",
    "import pandas as pd\n",
    "import matplotlib.pyplot as plt\n",
    "\n",
    "pyblp.options.digits = 2\n",
    "pyblp.options.verbose = False\n",
    "pyblp.__version__"
   ]
  },
  {
   "cell_type": "markdown",
   "metadata": {},
   "source": [
    "This tutorial covers several features of `pyblp` which are available after estimation including:\n",
    "\n",
    "1. Calculating elasticities and diversion ratios.\n",
    "2. Calculating marginal costs and markups.\n",
    "3. Computing the effects of mergers: prices, shares, and HHI.\n",
    "4. Using a parametric bootstrap to estimate standard errors.\n",
    "5. Estimating optimal instruments.\n",
    "\n",
    "\n",
    "## Problem Results\n",
    "\n",
    "As in the [fake cereal tutorial](nevo.ipynb), we'll first solve the fake cereal problem from :ref:`references:Nevo (2000)`. We load the fake data and estimate the model as in the previous tutorial. We output the setup of the model to confirm we have correctly configured the :class:`Problem`"
   ]
  },
  {
   "cell_type": "code",
   "execution_count": 2,
   "metadata": {},
   "outputs": [
    {
     "data": {
      "text/plain": [
       "Dimensions:\n",
       "=================================================\n",
       " T    N     F    I     K1    K2    D    MD    ED \n",
       "---  ----  ---  ----  ----  ----  ---  ----  ----\n",
       "94   2256   5   1880   1     4     4    20    1  \n",
       "=================================================\n",
       "\n",
       "Formulations:\n",
       "===================================================================\n",
       "       Column Indices:           0           1           2      3  \n",
       "-----------------------------  ------  --------------  -----  -----\n",
       " X1: Linear Characteristics    prices                              \n",
       "X2: Nonlinear Characteristics    1         prices      sugar  mushy\n",
       "       d: Demographics         income  income_squared   age   child\n",
       "==================================================================="
      ]
     },
     "execution_count": 2,
     "metadata": {},
     "output_type": "execute_result"
    }
   ],
   "source": [
    "product_data = pd.read_csv(pyblp.data.NEVO_PRODUCTS_LOCATION)\n",
    "agent_data = pd.read_csv(pyblp.data.NEVO_AGENTS_LOCATION)\n",
    "product_formulations = (\n",
    "   pyblp.Formulation('0 + prices', absorb='C(product_ids)'),\n",
    "   pyblp.Formulation('1 + prices + sugar + mushy')\n",
    ")\n",
    "agent_formulation = pyblp.Formulation('0 + income + income_squared + age + child')\n",
    "problem = pyblp.Problem(product_formulations, product_data, agent_formulation, agent_data)\n",
    "problem"
   ]
  },
  {
   "cell_type": "markdown",
   "metadata": {},
   "source": [
    "We'll solve the problem in the same way as before. The :meth:`Problem.solve` method returns a :meth:`ProblemResults` class, which displays basic estimation results. The results that are displayed are simply formatted information extracted from various class attributes such as :attr:`ProblemResults.sigma` and :attr:`ProblemResults.sigma_se`."
   ]
  },
  {
   "cell_type": "code",
   "execution_count": 3,
   "metadata": {},
   "outputs": [
    {
     "data": {
      "text/plain": [
       "Problem Results Summary:\n",
       "===========================================================================\n",
       "GMM   Objective  Gradient      Hessian         Hessian     Weighting Matrix\n",
       "Step    Value      Norm    Min Eigenvalue  Max Eigenvalue  Condition Number\n",
       "----  ---------  --------  --------------  --------------  ----------------\n",
       " 1    +5.2E-06   +5.9E-06     -1.4E-11        +3.8E-03         +6.9E+07    \n",
       "===========================================================================\n",
       "\n",
       "Cumulative Statistics:\n",
       "================================================================\n",
       "Computation  Optimization   Objective   Fixed Point  Contraction\n",
       "   Time       Iterations   Evaluations  Iterations   Evaluations\n",
       "-----------  ------------  -----------  -----------  -----------\n",
       " 00:00:24         4             9          5985         18571   \n",
       "================================================================\n",
       "\n",
       "Nonlinear Coefficient Estimates (Robust SEs in Parentheses):\n",
       "=====================================================================================================================\n",
       "Sigma:      1         prices      sugar       mushy     |   Pi:      income    income_squared     age        child   \n",
       "------  ----------  ----------  ----------  ----------  |  ------  ----------  --------------  ----------  ----------\n",
       "  1      +3.3E-01    +0.0E+00    +0.0E+00    +0.0E+00   |    1      +5.5E+00      +0.0E+00      +2.0E-01    +0.0E+00 \n",
       "        (+1.1E-01)                                      |          (+1.1E+00)                  (+3.7E-01)            \n",
       "                                                        |                                                            \n",
       "prices               +2.5E+00    +0.0E+00    +0.0E+00   |  prices   +1.6E+01      -1.2E+00      +0.0E+00    +2.6E+00 \n",
       "                    (+9.6E-01)                          |          (+2.1E+02)    (+1.1E+01)                (+3.6E+00)\n",
       "                                                        |                                                            \n",
       "sugar                            +3.2E-04    +0.0E+00   |  sugar    -2.5E-01      +0.0E+00      +5.1E-02    +0.0E+00 \n",
       "                                (+1.0E-02)              |          (+3.9E-02)                  (+2.4E-02)            \n",
       "                                                        |                                                            \n",
       "mushy                                        +2.4E-01   |  mushy    +1.3E+00      +0.0E+00      -8.1E-01    +0.0E+00 \n",
       "                                            (+1.5E-01)  |          (+5.7E-01)                  (+5.4E-01)            \n",
       "=====================================================================================================================\n",
       "\n",
       "Beta Estimates (Robust SEs in Parentheses):\n",
       "==========\n",
       "  prices  \n",
       "----------\n",
       " -2.8E+01 \n",
       "(+9.5E+00)\n",
       "=========="
      ]
     },
     "execution_count": 3,
     "metadata": {},
     "output_type": "execute_result"
    }
   ],
   "source": [
    "initial_sigma = np.diag([0.3302, 2.4526, 0.0163, 0.2441])\n",
    "initial_pi = [\n",
    "  [ 5.4819,  0,      0.2037,  0     ],\n",
    "  [15.8935, -1.2000, 0,       2.6342],\n",
    "  [-0.2506,  0,      0.0511,  0     ],\n",
    "  [ 1.2650,  0,     -0.8091,  0     ]\n",
    "]\n",
    "bfgs = pyblp.Optimization('bfgs')\n",
    "results = problem.solve(\n",
    "    initial_sigma,\n",
    "    initial_pi,\n",
    "    optimization=bfgs,\n",
    "    method='1s'\n",
    ")\n",
    "results"
   ]
  },
  {
   "cell_type": "markdown",
   "metadata": {},
   "source": [
    "Additional post-estimation outputs can be computed with :class:`ProblemResults` methods.\n",
    "\n",
    "\n",
    "## Elasticities and Diversion Ratios\n",
    "\n",
    "We can estimate elasticities, $\\varepsilon$, and diversion ratios, $\\mathscr{D}$, with :meth:`ProblemResults.compute_elasticities` and :meth:`ProblemResults.compute_diversion_ratios`.\n",
    "\n",
    "As a reminder, elasticities in each market are\n",
    "\n",
    "$$\\varepsilon_{jk} = \\frac{x_k}{s_j}\\frac{\\partial s_j}{\\partial x_k}.$$\n",
    "\n",
    "Diversion ratios are\n",
    "\n",
    "$$\\mathscr{D}_{jk} = -\\frac{\\partial s_k}{\\partial x_j} \\Big/ \\frac{\\partial s_j}{\\partial x_j}.$$\n",
    "\n",
    "Following :ref:`references:Conlon and Mortimer (2018)`, we report the diversion to the outside good $D_{j0}$ on the diagonal instead of $D_{jj}=-1$."
   ]
  },
  {
   "cell_type": "code",
   "execution_count": 4,
   "metadata": {},
   "outputs": [],
   "source": [
    "elasticities = results.compute_elasticities()\n",
    "diversions = results.compute_diversion_ratios()"
   ]
  },
  {
   "cell_type": "markdown",
   "metadata": {},
   "source": [
    "Post-estimation outputs are computed for each market and stacked. We'll use [matplotlib](https://matplotlib.org/) functions to display the matrices associated with a single market."
   ]
  },
  {
   "cell_type": "code",
   "execution_count": 5,
   "metadata": {},
   "outputs": [
    {
     "data": {
      "image/png": "[encoded data removed]",
      "text/plain": [
       "<Figure size 288x288 with 2 Axes>"
      ]
     },
     "metadata": {},
     "output_type": "display_data"
    }
   ],
   "source": [
    "single_market = product_data['market_ids'] == 'C01Q1'\n",
    "plt.colorbar(plt.matshow(elasticities[single_market]));"
   ]
  },
  {
   "cell_type": "code",
   "execution_count": 6,
   "metadata": {},
   "outputs": [
    {
     "data": {
      "image/png": "[encoded data removed]",
      "text/plain": [
       "<Figure size 288x288 with 2 Axes>"
      ]
     },
     "metadata": {},
     "output_type": "display_data"
    }
   ],
   "source": [
    "plt.colorbar(plt.matshow(diversions[single_market]));"
   ]
  },
  {
   "cell_type": "markdown",
   "metadata": {},
   "source": [
    "The diagonal of the first image consists of own elasticities and the diagonal of the second image consists of diversion ratios to the outside good. As one might expect, own price elasticities are large and negative while cross-price elasticities are positive but much smaller.\n",
    "\n",
    "Elasticities and diversion ratios can be computed with respect to variables other than `prices` with the `name` argument of :meth:`ProblemResults.compute_elasticities` and :meth:`ProblemResults.compute_diversion_ratios`. Additionally, :meth:`ProblemResults.compute_long_run_diversion_ratios` can be used to used to understand substitution when products are eliminated from the choice set.\n",
    "\n",
    "The convenience methods :meth:`ProblemResults.extract_diagonals` and :meth:`ProblemResults.extract_diagonal_means` can be used to extract information about own elasticities of demand from elasticity matrices."
   ]
  },
  {
   "cell_type": "code",
   "execution_count": 7,
   "metadata": {},
   "outputs": [],
   "source": [
    "means = results.extract_diagonal_means(elasticities)"
   ]
  },
  {
   "cell_type": "markdown",
   "metadata": {},
   "source": [
    "An alternative to summarizing full elasticity matrices is to use :meth:`ProblemResults.compute_aggregate_elasticities` to estimate aggregate elasticities of demand, $E$, in each market, which reflect the change in total sales under a proportional sales tax of some factor."
   ]
  },
  {
   "cell_type": "code",
   "execution_count": 8,
   "metadata": {},
   "outputs": [],
   "source": [
    "aggregates = results.compute_aggregate_elasticities(factor=0.1)"
   ]
  },
  {
   "cell_type": "markdown",
   "metadata": {},
   "source": [
    "Since demand for an entire product category is generally less elastic than the average elasticity of individual products, mean own elasticities are generally larger in magnitude than aggregate elasticities."
   ]
  },
  {
   "cell_type": "code",
   "execution_count": 9,
   "metadata": {},
   "outputs": [
    {
     "data": {
      "image/png": "[encoded data removed]",
      "text/plain": [
       "<Figure size 432x288 with 1 Axes>"
      ]
     },
     "metadata": {},
     "output_type": "display_data"
    }
   ],
   "source": [
    "plt.hist(\n",
    "    [means.flatten(), aggregates.flatten()], \n",
    "    color=['red', 'blue'], \n",
    "    bins=50\n",
    ");\n",
    "plt.legend(['Mean Own Elasticities', 'Aggregate Elasticities']);"
   ]
  },
  {
   "cell_type": "markdown",
   "metadata": {},
   "source": [
    "## Marginal Costs and Markups\n",
    "\n",
    "To compute marginal costs, $c$, the `product_data` passed to :class:`Problem` must have had a `firm_ids` field. Since we included firm IDs when configuring the problem, we can use :meth:`ProblemResults.compute_costs`."
   ]
  },
  {
   "cell_type": "code",
   "execution_count": 10,
   "metadata": {},
   "outputs": [
    {
     "data": {
      "image/png": "[encoded data removed]",
      "text/plain": [
       "<Figure size 432x288 with 1 Axes>"
      ]
     },
     "metadata": {},
     "output_type": "display_data"
    }
   ],
   "source": [
    "costs = results.compute_costs()\n",
    "plt.hist(costs, bins=50);\n",
    "plt.legend([\"Marginal Costs\"]);"
   ]
  },
  {
   "cell_type": "markdown",
   "metadata": {},
   "source": [
    "Other methods that compute supply-side outputs often compute marginal costs themselves. For example, :meth:`ProblemResults.compute_markups` will compute marginal costs when estimating markups, $\\mathscr{M}$, but computation can be sped up if we just use our pre-computed values."
   ]
  },
  {
   "cell_type": "code",
   "execution_count": 11,
   "metadata": {},
   "outputs": [
    {
     "data": {
      "image/png": "[encoded data removed]",
      "text/plain": [
       "<Figure size 432x288 with 1 Axes>"
      ]
     },
     "metadata": {},
     "output_type": "display_data"
    }
   ],
   "source": [
    "markups = results.compute_markups(costs=costs)\n",
    "plt.hist(markups, bins=50);\n",
    "plt.legend([\"Markups\"]);"
   ]
  },
  {
   "cell_type": "markdown",
   "metadata": {},
   "source": [
    "## Mergers\n",
    "\n",
    "Before computing post-merger outputs, we'll supplement our pre-merger markups with some other outputs. We'll compute Herfindahl-Hirschman Indices, $\\text{HHI}$, with :meth:`ProblemResults.compute_hhi`; population-normalized gross expected profits, $\\pi$, with :meth:`ProblemResults.compute_profits`; and population-normalized consumer surpluses, $\\text{CS}$, with :meth:`ProblemResults.compute_consumer_surpluses`."
   ]
  },
  {
   "cell_type": "code",
   "execution_count": 12,
   "metadata": {},
   "outputs": [],
   "source": [
    "hhi = results.compute_hhi()\n",
    "profits = results.compute_profits(costs=costs)\n",
    "cs = results.compute_consumer_surpluses()"
   ]
  },
  {
   "cell_type": "markdown",
   "metadata": {},
   "source": [
    "To compute post-merger outputs, we'll create a new set of firm IDs that represent a merger of firms ``2`` and ``1``."
   ]
  },
  {
   "cell_type": "code",
   "execution_count": 13,
   "metadata": {},
   "outputs": [],
   "source": [
    "product_data['merger_ids'] = product_data['firm_ids'].replace(2, 1)"
   ]
  },
  {
   "cell_type": "markdown",
   "metadata": {},
   "source": [
    "We can use :meth:`ProblemResults.compute_approximate_prices` or :meth:`ProblemResults.compute_prices` to estimate post-merger prices. The first method, which is discussed, for example, in :ref:`references:Nevo (1997)`, assumes that shares and their price derivatives are unaffected by the merger. The second method does not make these assumptions and iterates over the $\\zeta$-markup equation from :ref:`references:Morrow and Skerlos (2011)` to solve the full system of $J_t$ equations and $J_t$ unknowns in each market $t$. We'll use the latter, since it is fast enough for this example problem."
   ]
  },
  {
   "cell_type": "code",
   "execution_count": 14,
   "metadata": {},
   "outputs": [],
   "source": [
    "changed_prices = results.compute_prices(\n",
    "    firm_ids=product_data['merger_ids'], \n",
    "    costs=costs\n",
    ")"
   ]
  },
  {
   "cell_type": "markdown",
   "metadata": {},
   "source": [
    "We'll compute post-merger shares with :meth:`ProblemResults.compute_shares`."
   ]
  },
  {
   "cell_type": "code",
   "execution_count": 15,
   "metadata": {},
   "outputs": [],
   "source": [
    "changed_shares = results.compute_shares(changed_prices)"
   ]
  },
  {
   "cell_type": "markdown",
   "metadata": {},
   "source": [
    "Post-merger prices and shares are used to compute other post-merger outputs. For example, $\\text{HHI}$ increases."
   ]
  },
  {
   "cell_type": "code",
   "execution_count": 16,
   "metadata": {},
   "outputs": [
    {
     "data": {
      "image/png": "[encoded data removed]",
      "text/plain": [
       "<Figure size 432x288 with 1 Axes>"
      ]
     },
     "metadata": {},
     "output_type": "display_data"
    }
   ],
   "source": [
    "changed_hhi = results.compute_hhi(\n",
    "    firm_ids=product_data['merger_ids'],\n",
    "    shares=changed_shares\n",
    ")\n",
    "plt.hist(changed_hhi - hhi, bins=50);\n",
    "plt.legend([\"HHI Changes\"]);"
   ]
  },
  {
   "cell_type": "markdown",
   "metadata": {},
   "source": [
    "Markups, $\\mathscr{M}$, and profits, $\\pi$, generally increase as well."
   ]
  },
  {
   "cell_type": "code",
   "execution_count": 17,
   "metadata": {},
   "outputs": [
    {
     "data": {
      "image/png": "[encoded data removed]",
      "text/plain": [
       "<Figure size 432x288 with 1 Axes>"
      ]
     },
     "metadata": {},
     "output_type": "display_data"
    }
   ],
   "source": [
    "changed_markups = results.compute_markups(changed_prices, costs)\n",
    "plt.hist(changed_markups - markups, bins=50);\n",
    "plt.legend([\"Markup Changes\"]);"
   ]
  },
  {
   "cell_type": "code",
   "execution_count": 18,
   "metadata": {},
   "outputs": [
    {
     "data": {
      "image/png": "[encoded data removed]",
      "text/plain": [
       "<Figure size 432x288 with 1 Axes>"
      ]
     },
     "metadata": {},
     "output_type": "display_data"
    }
   ],
   "source": [
    "changed_profits = results.compute_profits(changed_prices, changed_shares, costs)\n",
    "plt.hist(changed_profits - profits, bins=50);\n",
    "plt.legend([\"Profit Changes\"]);"
   ]
  },
  {
   "cell_type": "markdown",
   "metadata": {},
   "source": [
    "On the other hand, consumer surpluses, $\\text{CS}$, generally decrease."
   ]
  },
  {
   "cell_type": "code",
   "execution_count": 19,
   "metadata": {},
   "outputs": [
    {
     "data": {
      "image/png": "[encoded data removed]",
      "text/plain": [
       "<Figure size 432x288 with 1 Axes>"
      ]
     },
     "metadata": {},
     "output_type": "display_data"
    }
   ],
   "source": [
    "changed_cs = results.compute_consumer_surpluses(changed_prices)\n",
    "plt.hist(changed_cs - cs, bins=50);\n",
    "plt.legend([\"Consumer Surplus Changes\"]);"
   ]
  },
  {
   "cell_type": "markdown",
   "metadata": {},
   "source": [
    "## Bootstrapping Results\n",
    "\n",
    "Post-estimation outputs can be informative, but they don't mean much without a sense sample-to-sample variability. One way to estimate confidence intervals for post-estimation outputs is with a standard bootstrap procedure:\n",
    "\n",
    "1. Construct a large number of bootstrap samples by sampling with replacement from the original product data.\n",
    "2. Initialize and solve a :class:`Problem` for each bootstrap sample.\n",
    "3. Compute the desired post-estimation output for each bootstrapped :class:`ProblemResults` and from the resulting empirical distribution, construct boostrap confidence intervals.\n",
    "\n",
    "Although appealing because of its simplicity, the computational resources required for this procedure are often prohibatively expensive. Furthermore, human oversight of the optimization routine is often required to determine whether the routine ran into any problems and if it successfully converged. Human oversight of estimation for each bootstrapped problem is usually not feasible.\n",
    "\n",
    "A more reasonable alternative is a parametric bootstrap procedure:\n",
    "\n",
    "1. Construct a large number of draws from the estimated joint distribution of parameters.\n",
    "2. Compute the implied mean utility, $\\delta$, and shares, $s$, for each draw. If a supply side was estimated, also computed the implied marginal costs, $c$, and prices, $p$.\n",
    "3. Compute the desired post-estimation output under each of these parametric bootstrap samples. Again, from the resulting empirical distribution, construct boostrap confidence intervals.\n",
    "\n",
    "Compared to the standard bootstrap procedure, the parametric bootstrap requires far fewer computational resources, and is simple enough to not require human oversight of each bootstrap iteration. The primary complication to this procedure is that when supply is estimated, equilibrium prices and shares need to be computed for each parametric bootstrap sample by iterating over the $\\zeta$-markup equation from :ref:`references:Morrow and Skerlos (2011)`. Although nontrivial, this fixed point iteration problem is much less demanding than the full optimization routine required to solve the BLP problem from the start.\n",
    "\n",
    "An empirical distribution of results computed according to this parametric bootstrap procedure can be created with the :meth:`ProblemResults.bootstrap` method, which returns a :class:`BootstrappedResults` class that can be used just like :class:`ProblemResults` to compute various post-estimation outputs. The difference is that :class:`BootstrappedResults` methods return arrays with an extra first dimension, along which bootstrapped results are stacked.\n",
    "\n",
    "We'll construct 90% parametric bootstrap confidence intervals for estimated mean own elasticities in each market of the fake cereal problem. Usually, bootstrapped confidence intervals should be based on thousands of draws, but we'll only use a few for the sake of speed in this example."
   ]
  },
  {
   "cell_type": "code",
   "execution_count": 20,
   "metadata": {},
   "outputs": [
    {
     "data": {
      "text/plain": [
       "Bootstrapped Results Summary:\n",
       "======================\n",
       "Computation  Bootstrap\n",
       "   Time        Draws  \n",
       "-----------  ---------\n",
       " 00:00:16       100   \n",
       "======================"
      ]
     },
     "execution_count": 20,
     "metadata": {},
     "output_type": "execute_result"
    }
   ],
   "source": [
    "bootstrapped_results = results.bootstrap(draws=100, seed=0)\n",
    "bootstrapped_results"
   ]
  },
  {
   "cell_type": "code",
   "execution_count": 21,
   "metadata": {},
   "outputs": [
    {
     "data": {
      "text/html": [
       "<div>\n",
       "<style scoped>\n",
       "    .dataframe tbody tr th:only-of-type {\n",
       "        vertical-align: middle;\n",
       "    }\n",
       "\n",
       "    .dataframe tbody tr th {\n",
       "        vertical-align: top;\n",
       "    }\n",
       "\n",
       "    .dataframe thead th {\n",
       "        text-align: right;\n",
       "    }\n",
       "</style>\n",
       "<table border=\"1\" class=\"dataframe\">\n",
       "  <thead>\n",
       "    <tr style=\"text-align: right;\">\n",
       "      <th></th>\n",
       "      <th>Lower Bound</th>\n",
       "      <th>Mean Own Elasticity</th>\n",
       "      <th>Upper Bound</th>\n",
       "    </tr>\n",
       "  </thead>\n",
       "  <tbody>\n",
       "    <tr>\n",
       "      <th>C01Q1</th>\n",
       "      <td>-4.43</td>\n",
       "      <td>-0.58</td>\n",
       "      <td>7.95</td>\n",
       "    </tr>\n",
       "    <tr>\n",
       "      <th>C01Q2</th>\n",
       "      <td>-4.65</td>\n",
       "      <td>-0.56</td>\n",
       "      <td>4.70</td>\n",
       "    </tr>\n",
       "    <tr>\n",
       "      <th>C03Q1</th>\n",
       "      <td>-6.42</td>\n",
       "      <td>-0.59</td>\n",
       "      <td>5.47</td>\n",
       "    </tr>\n",
       "    <tr>\n",
       "      <th>C03Q2</th>\n",
       "      <td>-6.72</td>\n",
       "      <td>-0.63</td>\n",
       "      <td>5.94</td>\n",
       "    </tr>\n",
       "    <tr>\n",
       "      <th>C04Q1</th>\n",
       "      <td>-9.62</td>\n",
       "      <td>-0.62</td>\n",
       "      <td>1.25</td>\n",
       "    </tr>\n",
       "  </tbody>\n",
       "</table>\n",
       "</div>"
      ],
      "text/plain": [
       "       Lower Bound  Mean Own Elasticity  Upper Bound\n",
       "C01Q1        -4.43                -0.58         7.95\n",
       "C01Q2        -4.65                -0.56         4.70\n",
       "C03Q1        -6.42                -0.59         5.47\n",
       "C03Q2        -6.72                -0.63         5.94\n",
       "C04Q1        -9.62                -0.62         1.25"
      ]
     },
     "execution_count": 21,
     "metadata": {},
     "output_type": "execute_result"
    }
   ],
   "source": [
    "bounds = np.percentile(\n",
    "    bootstrapped_results.extract_diagonal_means(\n",
    "        bootstrapped_results.compute_elasticities()\n",
    "    ), \n",
    "    q=[10, 90], \n",
    "    axis=0\n",
    ")\n",
    "table = pd.DataFrame(index=problem.unique_market_ids, data={\n",
    "    'Lower Bound': bounds[0].flatten(), \n",
    "    'Mean Own Elasticity': aggregates.flatten(), \n",
    "    'Upper Bound': bounds[1].flatten()\n",
    "})\n",
    "table.round(2).head()"
   ]
  },
  {
   "cell_type": "markdown",
   "metadata": {},
   "source": [
    "## Optimal Instruments\n",
    "\n",
    "Given a consistent estimate of $\\theta$, we may want to compute the optimal instruments of :ref:`references:Chamberlain (1987)` and use them to re-solve the problem. Optimal instruments have been shown, for example, by :ref:`references:Reynaert and Verboven (2014)`, to reduce bias, improve efficiency, and enhance stability of BLP estimates.\n",
    "\n",
    "The :meth:`ProblemResults.compute_optimal_instruments` method computes the expected Jacobians that comprise the optimal instruments by integrating over the density of $\\xi$ (and $\\omega$ if a supply side was estimated). By default, the method approximates this integral by averaging over the Jacobian realizations computed under draws from the asymptotic normal distribution of the error terms. Since this process is computationally expensive and often doesn't make much of a difference, we'll use `method='approximate'` in this example to simply evaluate the Jacobians at the expected value of $\\xi$, zero."
   ]
  },
  {
   "cell_type": "code",
   "execution_count": 22,
   "metadata": {},
   "outputs": [
    {
     "data": {
      "text/plain": [
       "Optimal Instrument Results Summary:\n",
       "=======================\n",
       "Computation  Error Term\n",
       "   Time        Draws   \n",
       "-----------  ----------\n",
       " 00:00:01        1     \n",
       "======================="
      ]
     },
     "execution_count": 22,
     "metadata": {},
     "output_type": "execute_result"
    }
   ],
   "source": [
    "instrument_results = results.compute_optimal_instruments(method='approximate')\n",
    "instrument_results"
   ]
  },
  {
   "cell_type": "markdown",
   "metadata": {},
   "source": [
    "We can use the :meth:`OptimalInstrumentResults.to_problem` method to re-create the fake cereal problem with the estimated optimal excluded instruments."
   ]
  },
  {
   "cell_type": "code",
   "execution_count": 23,
   "metadata": {},
   "outputs": [
    {
     "data": {
      "text/plain": [
       "Dimensions:\n",
       "=================================================\n",
       " T    N     F    I     K1    K2    D    MD    ED \n",
       "---  ----  ---  ----  ----  ----  ---  ----  ----\n",
       "94   2256   5   1880   1     4     4    14    1  \n",
       "=================================================\n",
       "\n",
       "Formulations:\n",
       "===================================================================\n",
       "       Column Indices:           0           1           2      3  \n",
       "-----------------------------  ------  --------------  -----  -----\n",
       " X1: Linear Characteristics    prices                              \n",
       "X2: Nonlinear Characteristics    1         prices      sugar  mushy\n",
       "       d: Demographics         income  income_squared   age   child\n",
       "==================================================================="
      ]
     },
     "execution_count": 23,
     "metadata": {},
     "output_type": "execute_result"
    }
   ],
   "source": [
    "updated_problem = instrument_results.to_problem()\n",
    "updated_problem"
   ]
  },
  {
   "cell_type": "markdown",
   "metadata": {},
   "source": [
    "We can solve this updated problem just like the original one. We'll start at our consistent estimate of $\\theta$."
   ]
  },
  {
   "cell_type": "code",
   "execution_count": 24,
   "metadata": {},
   "outputs": [
    {
     "data": {
      "text/plain": [
       "Problem Results Summary:\n",
       "===========================================================================\n",
       "GMM   Objective  Gradient      Hessian         Hessian     Weighting Matrix\n",
       "Step    Value      Norm    Min Eigenvalue  Max Eigenvalue  Condition Number\n",
       "----  ---------  --------  --------------  --------------  ----------------\n",
       " 1    +1.8E-06   +7.6E-06     +2.2E-10        +7.5E-03         +3.2E+07    \n",
       "===========================================================================\n",
       "\n",
       "Cumulative Statistics:\n",
       "================================================================\n",
       "Computation  Optimization   Objective   Fixed Point  Contraction\n",
       "   Time       Iterations   Evaluations  Iterations   Evaluations\n",
       "-----------  ------------  -----------  -----------  -----------\n",
       " 00:00:31         13           18          12758        39628   \n",
       "================================================================\n",
       "\n",
       "Nonlinear Coefficient Estimates (Robust SEs in Parentheses):\n",
       "=====================================================================================================================\n",
       "Sigma:      1         prices      sugar       mushy     |   Pi:      income    income_squared     age        child   \n",
       "------  ----------  ----------  ----------  ----------  |  ------  ----------  --------------  ----------  ----------\n",
       "  1      +3.3E-01    +0.0E+00    +0.0E+00    +0.0E+00   |    1      +5.5E+00      +0.0E+00      +2.1E-01    +0.0E+00 \n",
       "        (+7.1E-02)                                      |          (+3.9E-01)                  (+1.8E-01)            \n",
       "                                                        |                                                            \n",
       "prices               +2.5E+00    +0.0E+00    +0.0E+00   |  prices   +1.6E+01      -1.2E+00      +0.0E+00    +2.6E+00 \n",
       "                    (+5.6E-01)                          |          (+3.9E+01)    (+2.0E+00)                (+2.1E+00)\n",
       "                                                        |                                                            \n",
       "sugar                            +1.8E-02    +0.0E+00   |  sugar    -2.4E-01      +0.0E+00      +5.1E-02    +0.0E+00 \n",
       "                                (+6.3E-03)              |          (+2.2E-02)                  (+1.2E-02)            \n",
       "                                                        |                                                            \n",
       "mushy                                        +2.4E-01   |  mushy    +1.3E+00      +0.0E+00      -8.1E-01    +0.0E+00 \n",
       "                                            (+8.5E-02)  |          (+2.1E-01)                  (+1.5E-01)            \n",
       "=====================================================================================================================\n",
       "\n",
       "Beta Estimates (Robust SEs in Parentheses):\n",
       "==========\n",
       "  prices  \n",
       "----------\n",
       " -2.8E+01 \n",
       "(+2.2E+00)\n",
       "=========="
      ]
     },
     "execution_count": 24,
     "metadata": {},
     "output_type": "execute_result"
    }
   ],
   "source": [
    "updated_results = updated_problem.solve(\n",
    "    results.sigma,\n",
    "    results.pi, \n",
    "    optimization=pyblp.Optimization('bfgs'),\n",
    "    method='1s'\n",
    ")\n",
    "updated_results"
   ]
  }
 ],
 "metadata": {
  "kernelspec": {
   "display_name": "Python 3",
   "language": "python",
   "name": "python3"
  },
  "language_info": {
   "codemirror_mode": {
    "name": "ipython",
    "version": 3
   },
   "file_extension": ".py",
   "mimetype": "text/x-python",
   "name": "python",
   "nbconvert_exporter": "python",
   "pygments_lexer": "ipython3",
   "version": "3.6.6"
  }
 },
 "nbformat": 4,
 "nbformat_minor": 2
}
