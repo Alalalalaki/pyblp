{
 "cells": [
  {
   "cell_type": "markdown",
   "metadata": {},
   "source": [
    "# Logit and Nested Logit"
   ]
  },
  {
   "cell_type": "code",
   "execution_count": 30,
   "metadata": {},
   "outputs": [
    {
     "data": {
      "text/plain": [
       "'0.5.0'"
      ]
     },
     "execution_count": 30,
     "metadata": {},
     "output_type": "execute_result"
    }
   ],
   "source": [
    "import pyblp\n",
    "import numpy as np\n",
    "import pandas as pd\n",
    "\n",
    "pyblp.options.digits = 3\n",
    "pyblp.options.verbose = False\n",
    "pyblp.__version__"
   ]
  },
  {
   "cell_type": "markdown",
   "metadata": {},
   "source": [
    "We will compare two simple models, the plain (IIA) logit model and the nested logit (GEV) model using the Nevo (2000) Fake Cereal Dataset"
   ]
  },
  {
   "cell_type": "code",
   "execution_count": 9,
   "metadata": {},
   "outputs": [],
   "source": [
    "# First load the data\n",
    "product_data = np.recfromcsv(pyblp.data.NEVO_PRODUCTS_LOCATION, encoding='utf-8')\n",
    "product_data = {k: product_data[k] for k in product_data.dtype.names}"
   ]
  },
  {
   "cell_type": "markdown",
   "metadata": {},
   "source": [
    "## Plain Logit"
   ]
  },
  {
   "cell_type": "markdown",
   "metadata": {},
   "source": [
    "Let's start with the plain logit model under independence of irrelevant alternatives (IIA).\n",
    "\n",
    "In this  model (indirect) utility is given by:\n",
    "$$u_{ijt} = x_{jt} \\beta - \\alpha p_{jt} + \\xi_{jt} + \\varepsilon_{ijt}$$\n",
    "\n",
    "Where $\\varepsilon_{ijt}$ is distribuetd IID with Type I extreme value (Gumbel) distribution. It is common to normalize the mean utility of the outside good to zero so that $u_{i0t} = \\varepsilon_{i0t}$.\n",
    "\n",
    "This gives us aggregate marketshares \n",
    "$$s_{jt} = \\frac{e^{x_{jt} \\beta   - \\alpha p_{jt}  + \\xi_{jt}}}{\\sum_k e^{x_{kt} \\beta   - \\alpha p_{jt}  + \\xi_{kt}}}$$\n",
    "\n",
    "If we take logs we get that:\n",
    "\n",
    "\\begin{align}\n",
    "\\ln s_{jt} &=x_{jt} \\beta  - \\alpha p_{jt}  + \\xi_{jt} &- \\ln\\left(\\sum_k e^{x_{kt} \\beta  - \\alpha p_{jt}  + \\xi_{kt}}\\right)\\\\\n",
    "\\ln s_{0t} &=  0 &- \\ln\\left(\\sum_k e^{x_{kt} \\beta   - \\alpha p_{jt}  + \\xi_{kt}}\\right)\n",
    "\\end{align}\n",
    "\n",
    "By differencing the above we get a linear estimating equation:\n",
    "$$\\ln s_{jt} - \\ln s_{0t} = x_{jt}\\beta  - \\alpha p_{jt}  + \\xi_{jt} $$\n",
    "\n",
    "Because the left hand side is data, we can estimate this model using linear IV GMM."
   ]
  },
  {
   "cell_type": "markdown",
   "metadata": {},
   "source": [
    "### Implementation Details\n",
    "Comparing results from the full BLP model with results from the simpler Logit model is straightforward. A Logit :class:`Problem` can be created by simply excluding the formulation for the nonlinear parameters ($X_2$) along with any agent information. \n",
    "\n",
    "We'll set up and solve a simpler version of the fake data cereal problem from :ref:`references:Nevo (2000)`. Since we won't include any nonlinear characteristics or parameters, we don't have to worry about configuring an optimization routine. We can still include product fixed effects using the __absorb__ option."
   ]
  },
  {
   "cell_type": "code",
   "execution_count": 50,
   "metadata": {},
   "outputs": [
    {
     "data": {
      "text/plain": [
       "prices + Absorb[C(product_ids)]"
      ]
     },
     "execution_count": 50,
     "metadata": {},
     "output_type": "execute_result"
    }
   ],
   "source": [
    "logit_formulation = pyblp.Formulation('0 + prices', absorb='C(product_ids)')\n",
    "logit_formulation"
   ]
  },
  {
   "cell_type": "code",
   "execution_count": 51,
   "metadata": {},
   "outputs": [
    {
     "data": {
      "text/plain": [
       "Dimensions:\n",
       "===========================================================================================================================================================================================================================================\n",
       "Products (N)  Markets (T)  Linear Characteristics (K1)  Nonlinear Characteristics (K2)  Cost Characteristics (K3)  Demographics (D)  Demand Instruments (MD)  Supply Instruments (MS)  Demand FEs (ED)  Supply FEs (ES)  Nesting Groups (H)\n",
       "------------  -----------  ---------------------------  ------------------------------  -------------------------  ----------------  -----------------------  -----------------------  ---------------  ---------------  ------------------\n",
       "    2256          94                    1                             0                             0                     0                    20                        0                    1                0                 0         \n",
       "===========================================================================================================================================================================================================================================\n",
       "\n",
       "Formulations:\n",
       "======================================\n",
       "       Matrix Columns:            0   \n",
       "------------------------------  ------\n",
       " Linear Characteristics (X1)    prices\n",
       "======================================"
      ]
     },
     "execution_count": 51,
     "metadata": {},
     "output_type": "execute_result"
    }
   ],
   "source": [
    "problem = pyblp.Problem(logit_formulation, product_data)\n",
    "problem"
   ]
  },
  {
   "cell_type": "code",
   "execution_count": 52,
   "metadata": {},
   "outputs": [
    {
     "data": {
      "text/plain": [
       "Results Summary:\n",
       "===========================================================================================================\n",
       "Cumulative  GMM   Optimization   Objective   Total Fixed Point  Total Contraction  Objective    Gradient   \n",
       "Total Time  Step   Iterations   Evaluations     Iterations         Evaluations       Value    Infinity Norm\n",
       "----------  ----  ------------  -----------  -----------------  -----------------  ---------  -------------\n",
       " 0:00:00     2         0             1               0                  0          +4.23E+05       NA      \n",
       "===========================================================================================================\n",
       "\n",
       "Linear Estimates (Robust SEs in Parentheses):\n",
       "==================\n",
       "Beta:    prices   \n",
       "-----  -----------\n",
       "        -3.00E+01 \n",
       "       (+1.01E+00)\n",
       "=================="
      ]
     },
     "execution_count": 52,
     "metadata": {},
     "output_type": "execute_result"
    }
   ],
   "source": [
    "results_0 = problem.solve()\n",
    "results_0"
   ]
  },
  {
   "cell_type": "markdown",
   "metadata": {},
   "source": [
    "Logit :class:`ProblemResults` can be to compute the same types of post-estimation outputs as :class:`ProblemResults` created by a full BLP problem."
   ]
  },
  {
   "cell_type": "markdown",
   "metadata": {},
   "source": [
    "## Nested Logit"
   ]
  },
  {
   "cell_type": "markdown",
   "metadata": {},
   "source": [
    "We can extend the logit model to allow for correlation within a group $g$ so that:\n",
    "$$u_{ijt} = x_{jt} \\beta + \\xi_{jt} +  \\eta_{ig} +  (1-\\rho) \\varepsilon_{ijt}$$\n",
    "\n",
    "Now, we require that $\\eta_{ig} +  (1-\\rho) \\varepsilon_{ijt}$ is distributed Type I extreme value (Gumbel) distribution. As $\\rho \\rightarrow 1$ then all consumers stay within t the group. As $\\rho \\rightarrow 0$ this collapses to the IIA logit.\n",
    "\n",
    "This gives us aggregate marketshares as the product of two logits, the within group logit and the across group logit:\n",
    "$$s_{jt} = s_{j|gt} \\cdot s_{gt} =  \\frac{e^{(x_{jt} \\beta + \\xi_{jt})/(1-\\rho)}}{D_g} \\cdot \\frac{D_g^{1-\\rho}}{\\sum_g D_g^{1-\\sigma}} $$\n",
    "\n",
    "With the (exponentiated) inclusive value given by: $D_g = \\sum_{j \\in \\mathcal{J}_g} e^{(x_{jt} \\beta + \\xi_{jt})/(1-\\sigma)}$.\n",
    "\n",
    "After some work (see Berry (1994) or Cardell (1991)) we again obtain the linear estimating equation:\n",
    "$$\\ln s_{jt} - \\ln s_{0t} = x_{jt}\\beta - \\alpha p_{jt} +\\rho \\ln s_{j|gt} + \\xi_{jt} $$\n",
    "\n",
    "Again, the left hand side is data, though the $\\ln s_{j|gt}$ is clearly _endogenous_ which means we must instrument for it. Rather than include $\\ln s_{j|gt}$ along with the _linear components_ of utility $X_1$, whenever a `nesting_id` variable is included, `pyblp` treats $\\rho$ as a nonlinear $X_2$ parameter. This means that the linear component is given instead by:\n",
    "\n",
    "$$\\ln s_{jt} - \\ln s_{0t} -\\rho \\ln s_{j|gt} = x_{jt}\\beta - \\alpha p_{jt}  + \\xi_{jt} $$\n",
    "\n",
    "This is done for two reasons:\n",
    "- It forces the user to treat $\\rho$ as an endogenous parameter.\n",
    "- It extends much more easily to the RCNL model of :ref:`references:Grigolon and Verboven (2014)`.\n",
    "\n",
    "A common choice for an additional instrument is the number of products per nest."
   ]
  },
  {
   "cell_type": "markdown",
   "metadata": {},
   "source": [
    "### Nevo Application of Nested Logit\n",
    "Here it is helpful to provide the `product_data` as a `pandas` dataframe instead of as a `numpy` record array. As long as we provide `nesting_id` as a field, we don't need to change any of the formulas. We show how to construct the category groupings three different ways:\n",
    "1. We put all products in a single nest (only the outside good in the other nest).\n",
    "2. We put products into two nests (either Mushy or not-Mushy)\n",
    "3. We put the products into three nests based on sugar content (High/Medium/Low).\n",
    "\n",
    "We also construct an additional instrument based on the number of products per nest. Typically this is useful as a source of exogenous variation in the within group share $\\ln s_{j|gt}$. However, in this example because the number of products per nest do not vary across markets, if we include product fixed effects, this instrument is irrelevant.\n",
    "\n",
    "For all three cases we find that $\\rho \\approx 0.95$."
   ]
  },
  {
   "cell_type": "code",
   "execution_count": 69,
   "metadata": {},
   "outputs": [
    {
     "name": "stdout",
     "output_type": "stream",
     "text": [
      "*************************\n",
      "All Products in Same Nest\n",
      "*************************\n",
      "Results Summary:\n",
      "===========================================================================================================\n",
      "Cumulative  GMM   Optimization   Objective   Total Fixed Point  Total Contraction  Objective    Gradient   \n",
      "Total Time  Step   Iterations   Evaluations     Iterations         Evaluations       Value    Infinity Norm\n",
      "----------  ----  ------------  -----------  -----------------  -----------------  ---------  -------------\n",
      " 0:00:00     2         0             2               0                  0          +8.08E+05    +3.19E+05  \n",
      "===========================================================================================================\n",
      "\n",
      "Linear Estimates (Robust SEs in Parentheses):\n",
      "==================\n",
      "Beta:    prices   \n",
      "-----  -----------\n",
      "        -3.05E+00 \n",
      "       (+1.77E+00)\n",
      "==================\n",
      "\n",
      "Nonlinear Estimates (Robust SEs in Parentheses):\n",
      "=================\n",
      "Rho:  All Groups \n",
      "----  -----------\n",
      "       +9.50E-01 \n",
      "      (+5.84E-02)\n",
      "=================\n",
      "*************************\n",
      "Mushy vs. non-Mushy\n",
      "*************************\n",
      "Results Summary:\n",
      "===========================================================================================================\n",
      "Cumulative  GMM   Optimization   Objective   Total Fixed Point  Total Contraction  Objective    Gradient   \n",
      "Total Time  Step   Iterations   Evaluations     Iterations         Evaluations       Value    Infinity Norm\n",
      "----------  ----  ------------  -----------  -----------------  -----------------  ---------  -------------\n",
      " 0:00:00     2         0             2               0                  0          +8.73E+05    +5.60E+04  \n",
      "===========================================================================================================\n",
      "\n",
      "Linear Estimates (Robust SEs in Parentheses):\n",
      "==================\n",
      "Beta:    prices   \n",
      "-----  -----------\n",
      "        -4.04E+00 \n",
      "       (+2.06E+00)\n",
      "==================\n",
      "\n",
      "Nonlinear Estimates (Robust SEs in Parentheses):\n",
      "=================\n",
      "Rho:  All Groups \n",
      "----  -----------\n",
      "       +9.50E-01 \n",
      "      (+7.10E-02)\n",
      "=================\n",
      "*************************\n",
      "Low/Medium/High Sugar Content\n",
      "*************************\n",
      "Results Summary:\n",
      "===========================================================================================================\n",
      "Cumulative  GMM   Optimization   Objective   Total Fixed Point  Total Contraction  Objective    Gradient   \n",
      "Total Time  Step   Iterations   Evaluations     Iterations         Evaluations       Value    Infinity Norm\n",
      "----------  ----  ------------  -----------  -----------------  -----------------  ---------  -------------\n",
      " 0:00:00     2         0             2               0                  0          +6.14E+05    +3.86E+04  \n",
      "===========================================================================================================\n",
      "\n",
      "Linear Estimates (Robust SEs in Parentheses):\n",
      "==================\n",
      "Beta:    prices   \n",
      "-----  -----------\n",
      "        -5.71E+00 \n",
      "       (+2.01E+00)\n",
      "==================\n",
      "\n",
      "Nonlinear Estimates (Robust SEs in Parentheses):\n",
      "=================\n",
      "Rho:  All Groups \n",
      "----  -----------\n",
      "       +9.50E-01 \n",
      "      (+7.35E-02)\n",
      "=================\n"
     ]
    }
   ],
   "source": [
    "def solve_nl(df):\n",
    "    df['demand_instruments20']=df.groupby(['market_ids','nesting_ids'])['shares'].transform(lambda x: len(x))\n",
    "    problem = pyblp.Problem(logit_formulation, df)\n",
    "    return problem.solve(rho=0.7)\n",
    "    \n",
    "# Single nest for all products (outside good in its own nest)\n",
    "df=pd.DataFrame(product_data)\n",
    "df['nesting_ids'] = 1\n",
    "results_1 = solve_nl(df)\n",
    "\n",
    "# Two nests for Mushy/Non-Mushy\n",
    "df2=pd.DataFrame(product_data)\n",
    "df2['nesting_ids'] = product_data['mushy']\n",
    "results_2= solve_nl(df2)\n",
    "\n",
    "# Three nests for low/medium/high sugar\n",
    "df3=pd.DataFrame(product_data)\n",
    "df3['nesting_ids']=pd.cut(df3.sugar,[-0.5,3.5,12.5,100],labels=False)\n",
    "results_3= solve_nl(df3)\n",
    "\n",
    "print(\"*\"*25)\n",
    "print(\"All Products in Same Nest\")\n",
    "print(\"*\"*25)\n",
    "print(results_1)\n",
    "print(\"*\"*25)\n",
    "print(\"Mushy vs. non-Mushy\")\n",
    "print(\"*\"*25)\n",
    "print(results_2)\n",
    "print(\"*\"*25)\n",
    "print(\"Low/Medium/High Sugar Content\")\n",
    "print(\"*\"*25)\n",
    "print(results_3)"
   ]
  },
  {
   "cell_type": "markdown",
   "metadata": {},
   "source": [
    "### Treating within group share as exogenous\n",
    "`pyblp` is designed to prevent the user from treating the within group share ($\\log s_{j|g t}$) as an exogenous variable. \n",
    "\n",
    "In order to demonstrate why this is a bad idea, we override this feature by calculating `within_share` as an additional variable and including it in $X_1$.\n",
    "\n",
    "We repeat the same exercise as above but note that attenuation bias causes $\\rho \\rightarrow 1$ and in several cases $\\rho > 1$ which is not necessarily interpretable as a valid Random Utility Model (RUM). Likewise we see even though we have instrumented for price, for one of the estimates $\\alpha > 0$ (demand slopes upwards)."
   ]
  },
  {
   "cell_type": "code",
   "execution_count": 68,
   "metadata": {},
   "outputs": [
    {
     "name": "stdout",
     "output_type": "stream",
     "text": [
      "*************************\n",
      "All Products in Same Nest\n",
      "*************************\n",
      "Results Summary:\n",
      "===========================================================================================================\n",
      "Cumulative  GMM   Optimization   Objective   Total Fixed Point  Total Contraction  Objective    Gradient   \n",
      "Total Time  Step   Iterations   Evaluations     Iterations         Evaluations       Value    Infinity Norm\n",
      "----------  ----  ------------  -----------  -----------------  -----------------  ---------  -------------\n",
      " 0:00:00     2         0             1               0                  0          +6.16E+05       NA      \n",
      "===========================================================================================================\n",
      "\n",
      "Linear Estimates (Robust SEs in Parentheses):\n",
      "================================\n",
      "Beta:    prices     within_share\n",
      "-----  -----------  ------------\n",
      "        +6.88E+00    +1.29E+00  \n",
      "       (+2.06E+00)  (+6.81E-02) \n",
      "================================\n",
      "*************************\n",
      "Mushy vs. non-Mushy\n",
      "*************************\n",
      "Results Summary:\n",
      "===========================================================================================================\n",
      "Cumulative  GMM   Optimization   Objective   Total Fixed Point  Total Contraction  Objective    Gradient   \n",
      "Total Time  Step   Iterations   Evaluations     Iterations         Evaluations       Value    Infinity Norm\n",
      "----------  ----  ------------  -----------  -----------------  -----------------  ---------  -------------\n",
      " 0:00:00     2         0             1               0                  0          +7.97E+05       NA      \n",
      "===========================================================================================================\n",
      "\n",
      "Linear Estimates (Robust SEs in Parentheses):\n",
      "================================\n",
      "Beta:    prices     within_share\n",
      "-----  -----------  ------------\n",
      "        -1.80E-01    +1.08E+00  \n",
      "       (+2.14E+00)  (+7.38E-02) \n",
      "================================\n",
      "*************************\n",
      "Low/Medium/High Sugar Content\n",
      "*************************\n",
      "Results Summary:\n",
      "===========================================================================================================\n",
      "Cumulative  GMM   Optimization   Objective   Total Fixed Point  Total Contraction  Objective    Gradient   \n",
      "Total Time  Step   Iterations   Evaluations     Iterations         Evaluations       Value    Infinity Norm\n",
      "----------  ----  ------------  -----------  -----------------  -----------------  ---------  -------------\n",
      " 0:00:00     2         0             1               0                  0          +5.74E+05       NA      \n",
      "===========================================================================================================\n",
      "\n",
      "Linear Estimates (Robust SEs in Parentheses):\n",
      "================================\n",
      "Beta:    prices     within_share\n",
      "-----  -----------  ------------\n",
      "        -4.27E+00    +1.01E+00  \n",
      "       (+2.03E+00)  (+7.45E-02) \n",
      "================================\n"
     ]
    }
   ],
   "source": [
    "within_formulation = pyblp.Formulation('0 + prices + within_share', absorb='C(product_ids)')\n",
    "def solve_nl2(df):\n",
    "    df['group_share']=df.groupby(['market_ids','nesting_ids'])['shares'].transform(sum)\n",
    "    df['within_share']=np.log(df['shares']/df['group_share'])\n",
    "    df['demand_instruments20']=df.groupby(['market_ids','nesting_ids'])['shares'].transform(lambda x: len(x))\n",
    "    # make sure to drop the nesting_id's column\n",
    "    problem = pyblp.Problem(within_formulation, df.drop(columns=['nesting_ids'])\n",
    "    )\n",
    "    return problem.solve()\n",
    "    \n",
    "# Single nest for all products (outside good in its own nest)\n",
    "results_1 = solve_nl2(df)\n",
    "# Two nests for Mushy/Non-Mushy\n",
    "results_2= solve_nl2(df2)\n",
    "# Three nests for low/medium/high sugar\n",
    "results_3= solve_nl2(df3)\n",
    "\n",
    "print(\"*\"*25)\n",
    "print(\"All Products in Same Nest\")\n",
    "print(\"*\"*25)\n",
    "print(results_1)\n",
    "print(\"*\"*25)\n",
    "print(\"Mushy vs. non-Mushy\")\n",
    "print(\"*\"*25)\n",
    "print(results_2)\n",
    "print(\"*\"*25)\n",
    "print(\"Low/Medium/High Sugar Content\")\n",
    "print(\"*\"*25)\n",
    "print(results_3)"
   ]
  },
  {
   "cell_type": "code",
   "execution_count": null,
   "metadata": {},
   "outputs": [],
   "source": []
  }
 ],
 "metadata": {
  "kernelspec": {
   "display_name": "Python 3",
   "language": "python",
   "name": "python3"
  },
  "language_info": {
   "codemirror_mode": {
    "name": "ipython",
    "version": 3
   },
   "file_extension": ".py",
   "mimetype": "text/x-python",
   "name": "python",
   "nbconvert_exporter": "python",
   "pygments_lexer": "ipython3",
   "version": "3.6.6"
  }
 },
 "nbformat": 4,
 "nbformat_minor": 2
}
