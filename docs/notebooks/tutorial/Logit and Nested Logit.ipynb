{
 "cells": [
  {
   "cell_type": "markdown",
   "metadata": {},
   "source": [
    "# Logit and Nested Logit"
   ]
  },
  {
   "cell_type": "code",
   "execution_count": 1,
   "metadata": {},
   "outputs": [
    {
     "data": {
      "text/plain": [
       "'0.5.0'"
      ]
     },
     "execution_count": 1,
     "metadata": {},
     "output_type": "execute_result"
    }
   ],
   "source": [
    "import pyblp\n",
    "import numpy as np\n",
    "\n",
    "pyblp.options.digits = 3\n",
    "pyblp.options.verbose = False\n",
    "pyblp.__version__"
   ]
  },
  {
   "cell_type": "markdown",
   "metadata": {},
   "source": [
    "We will compare two simple models, the plain (IIA) logit model and the nested logit (GEV) model using the Nevo (2000) Fake Cereal Dataset"
   ]
  },
  {
   "cell_type": "code",
   "execution_count": 2,
   "metadata": {},
   "outputs": [],
   "source": [
    "# First load the data\n",
    "product_data = np.recfromcsv(pyblp.data.NEVO_PRODUCTS_LOCATION, encoding='utf-8')\n",
    "product_data = {k: product_data[k] for k in product_data.dtype.names}"
   ]
  },
  {
   "cell_type": "markdown",
   "metadata": {},
   "source": [
    "## Plain Logit"
   ]
  },
  {
   "cell_type": "markdown",
   "metadata": {},
   "source": [
    "Let's start with the plain logit model under independence of irrelevant alternatives (IIA).\n",
    "\n",
    "In this  model (indirect) utility is given by:\n",
    "$$u_{ijt} = x_{jt} \\beta - \\alpha p_{jt} + \\xi_{jt} + \\varepsilon_{ijt}$$\n",
    "\n",
    "Where $\\varepsilon_{ijt}$ is distribuetd IID with Type I extreme value (Gumbel) distribution. It is common to normalize the mean utility of the outside good to zero so that $u_{i0t} = \\varepsilon_{i0t}$.\n",
    "\n",
    "This gives us aggregate marketshares \n",
    "$$s_{jt} = \\frac{e^{x_{jt} \\beta   - \\alpha p_{jt}  + \\xi_{jt}}}{\\sum_k e^{x_{kt} \\beta   - \\alpha p_{jt}  + \\xi_{kt}}}$$\n",
    "\n",
    "If we take logs we get that:\n",
    "\n",
    "\\begin{align}\n",
    "\\ln s_{jt} &=x_{jt} \\beta  - \\alpha p_{jt}  + \\xi_{jt} &- \\ln\\left(\\sum_k e^{x_{kt} \\beta  - \\alpha p_{jt}  + \\xi_{kt}}\\right)\\\\\n",
    "\\ln s_{0t} &=  0 &- \\ln\\left(\\sum_k e^{x_{kt} \\beta   - \\alpha p_{jt}  + \\xi_{kt}}\\right)\n",
    "\\end{align}\n",
    "\n",
    "By differencing the above we get a linear estimating equation:\n",
    "$$\\ln s_{jt} - \\ln s_{0t} = x_{jt}\\beta  - \\alpha p_{jt}  + \\xi_{jt} $$\n",
    "\n",
    "Because the left hand side is data, we can estimate this model using linear IV GMM."
   ]
  },
  {
   "cell_type": "markdown",
   "metadata": {},
   "source": [
    "Comparing results from the full BLP model with results from the simpler Logit model is straightforward. A Logit :class:`Problem` can be created by simply excluding the formulation for $X_2$ along with any agent information. We'll set up and solve a simpler version of the fake cereal problem from :ref:`references:Nevo (2000)`. Since we won't include any nonlinear characteristics or parameters, we don't have to worry about configuring an optimization routine."
   ]
  },
  {
   "cell_type": "code",
   "execution_count": 3,
   "metadata": {},
   "outputs": [
    {
     "data": {
      "text/plain": [
       "prices + Absorb[C(product_ids)]"
      ]
     },
     "execution_count": 3,
     "metadata": {},
     "output_type": "execute_result"
    }
   ],
   "source": [
    "logit_formulation = pyblp.Formulation('0 + prices', absorb='C(product_ids)')\n",
    "logit_formulation"
   ]
  },
  {
   "cell_type": "code",
   "execution_count": 4,
   "metadata": {},
   "outputs": [
    {
     "data": {
      "text/plain": [
       "Dimensions:\n",
       "===========================\n",
       " N     T    K1    MD    ED \n",
       "----  ---  ----  ----  ----\n",
       "2256  94    1     20    1  \n",
       "===========================\n",
       "\n",
       "Formulations:\n",
       "=====================================\n",
       "       Column Indices:           0   \n",
       "-----------------------------  ------\n",
       " X1: Linear Characteristics    prices\n",
       "====================================="
      ]
     },
     "execution_count": 4,
     "metadata": {},
     "output_type": "execute_result"
    }
   ],
   "source": [
    "problem = pyblp.Problem(logit_formulation, product_data)\n",
    "problem"
   ]
  },
  {
   "cell_type": "code",
   "execution_count": 5,
   "metadata": {},
   "outputs": [
    {
     "data": {
      "text/plain": [
       "Problem Results Summary:\n",
       "===========================================================================================================\n",
       "Cumulative  GMM   Optimization   Objective   Total Fixed Point  Total Contraction  Objective    Gradient   \n",
       "Total Time  Step   Iterations   Evaluations     Iterations         Evaluations       Value    Infinity Norm\n",
       "----------  ----  ------------  -----------  -----------------  -----------------  ---------  -------------\n",
       " 0:00:00     2         0             1              0.0                0.0         +4.23E+05       NA      \n",
       "===========================================================================================================\n",
       "\n",
       "Linear Estimates (Robust SEs in Parentheses):\n",
       "==================\n",
       "Beta:    prices   \n",
       "-----  -----------\n",
       "        -3.00E+01 \n",
       "       (+1.01E+00)\n",
       "=================="
      ]
     },
     "execution_count": 5,
     "metadata": {},
     "output_type": "execute_result"
    }
   ],
   "source": [
    "results = problem.solve()\n",
    "results"
   ]
  },
  {
   "cell_type": "markdown",
   "metadata": {},
   "source": [
    "## Nested Logit"
   ]
  },
  {
   "cell_type": "markdown",
   "metadata": {},
   "source": [
    "We can extend the logit model to allow for correlation within a group $g$ so that:\n",
    "$$u_{ijt} = x_{jt} \\beta + \\xi_{jt} +  \\eta_{ig} +  (1-\\rho) \\varepsilon_{ijt}$$\n",
    "\n",
    "Now, we require that $\\eta_{ig} +  (1-\\rho) \\varepsilon_{ijt}$ is distributed Type I extreme value (Gumbel) distribution. As $\\rho \\rightarrow 1$ then all consumers stay within t the group.\n",
    "\n",
    "This gives us aggregate marketshares \n",
    "$$s_{jt} = \\frac{e^{x_{jt} \\beta + \\xi_{jt}}}{\\sum_k e^{x_{kt} \\beta + \\xi_{kt}}}$$\n",
    "\n",
    "If we take logs we get that:\n",
    "\n",
    "\\begin{align}\n",
    "\\ln s_{jt} &=x_{jt} \\beta + \\xi_{jt} &- \\ln\\left(\\sum_k e^{x_{kt} \\beta + \\xi_{kt}}\\right)\\\\\n",
    "\\ln s_{0t} &=  0 &- \\ln\\left(\\sum_k e^{x_{kt} \\beta + \\xi_{kt}}\\right)\n",
    "\\end{align}\n",
    "\n",
    "After some work (see Berry (1994) or Cardell (1991)) we again obtain the linear estimating equation:\n",
    "$$\\ln s_{jt} - \\ln s_{0t} = x_{jt}\\beta + \\xi_{jt} $$\n",
    "\n",
    "Because the left hand side is data, we can estimate this model using linear IV GMM."
   ]
  },
  {
   "cell_type": "code",
   "execution_count": 11,
   "metadata": {},
   "outputs": [
    {
     "name": "stdout",
     "output_type": "stream",
     "text": [
      "*************************\n",
      "All Products in Same Nest\n",
      "*************************\n",
      "Problem Results Summary:\n",
      "===========================================================================================================\n",
      "Cumulative  GMM   Optimization   Objective   Total Fixed Point  Total Contraction  Objective    Gradient   \n",
      "Total Time  Step   Iterations   Evaluations     Iterations         Evaluations       Value    Infinity Norm\n",
      "----------  ----  ------------  -----------  -----------------  -----------------  ---------  -------------\n",
      " 0:00:00     2         0             2               0                  0          +8.08E+05    +3.19E+05  \n",
      "===========================================================================================================\n",
      "\n",
      "Linear Estimates (Robust SEs in Parentheses):\n",
      "==================\n",
      "Beta:    prices   \n",
      "-----  -----------\n",
      "        -3.05E+00 \n",
      "       (+1.77E+00)\n",
      "==================\n",
      "\n",
      "Nonlinear Estimates (Robust SEs in Parentheses):\n",
      "=================\n",
      "Rho:  All Groups \n",
      "----  -----------\n",
      "       +9.50E-01 \n",
      "      (+5.84E-02)\n",
      "=================\n",
      "*************************\n",
      "Mushy vs. non-Mushy\n",
      "*************************\n",
      "Problem Results Summary:\n",
      "===========================================================================================================\n",
      "Cumulative  GMM   Optimization   Objective   Total Fixed Point  Total Contraction  Objective    Gradient   \n",
      "Total Time  Step   Iterations   Evaluations     Iterations         Evaluations       Value    Infinity Norm\n",
      "----------  ----  ------------  -----------  -----------------  -----------------  ---------  -------------\n",
      " 0:00:00     2         0             2               0                  0          +8.73E+05    +5.60E+04  \n",
      "===========================================================================================================\n",
      "\n",
      "Linear Estimates (Robust SEs in Parentheses):\n",
      "==================\n",
      "Beta:    prices   \n",
      "-----  -----------\n",
      "        -4.04E+00 \n",
      "       (+2.06E+00)\n",
      "==================\n",
      "\n",
      "Nonlinear Estimates (Robust SEs in Parentheses):\n",
      "=================\n",
      "Rho:  All Groups \n",
      "----  -----------\n",
      "       +9.50E-01 \n",
      "      (+7.10E-02)\n",
      "=================\n",
      "*************************\n",
      "Low/Medium/High Sugar Content\n",
      "*************************\n",
      "Problem Results Summary:\n",
      "===========================================================================================================\n",
      "Cumulative  GMM   Optimization   Objective   Total Fixed Point  Total Contraction  Objective    Gradient   \n",
      "Total Time  Step   Iterations   Evaluations     Iterations         Evaluations       Value    Infinity Norm\n",
      "----------  ----  ------------  -----------  -----------------  -----------------  ---------  -------------\n",
      " 0:00:00     2         0             2               0                  0          +6.14E+05    +3.86E+04  \n",
      "===========================================================================================================\n",
      "\n",
      "Linear Estimates (Robust SEs in Parentheses):\n",
      "==================\n",
      "Beta:    prices   \n",
      "-----  -----------\n",
      "        -5.71E+00 \n",
      "       (+2.01E+00)\n",
      "==================\n",
      "\n",
      "Nonlinear Estimates (Robust SEs in Parentheses):\n",
      "=================\n",
      "Rho:  All Groups \n",
      "----  -----------\n",
      "       +9.50E-01 \n",
      "      (+7.35E-02)\n",
      "=================\n"
     ]
    }
   ],
   "source": [
    "import pandas as pd\n",
    "\n",
    "df=pd.DataFrame(product_data)\n",
    "df['nesting_ids'] = 1\n",
    "df['demand_instruments20']=df.groupby(['market_ids','nesting_ids'])['shares'].transform(lambda x: len(x))\n",
    "problem = pyblp.Problem(logit_formulation, df)\n",
    "results_1= problem.solve(rho=0.7)\n",
    "\n",
    "df2=pd.DataFrame(product_data)\n",
    "df2['nesting_ids'] = product_data['mushy']\n",
    "df2['demand_instruments20']=df2.groupby(['market_ids','nesting_ids'])['shares'].transform(lambda x: len(x))\n",
    "problem = pyblp.Problem(logit_formulation, df2)\n",
    "results_2= problem.solve(rho=0.7)\n",
    "\n",
    "df3=pd.DataFrame(product_data)\n",
    "df3['nesting_ids']=pd.cut(df3.sugar,[-0.5,3.5,12.5,100],labels=False)\n",
    "df3['demand_instruments20']=df3.groupby(['market_ids','nesting_ids'])['shares'].transform(lambda x: len(x))\n",
    "problem = pyblp.Problem(logit_formulation, df3)\n",
    "results_3= problem.solve(rho=0.7)\n",
    "\n",
    "print(\"*\"*25)\n",
    "print(\"All Products in Same Nest\")\n",
    "print(\"*\"*25)\n",
    "print(results_1)\n",
    "print(\"*\"*25)\n",
    "print(\"Mushy vs. non-Mushy\")\n",
    "print(\"*\"*25)\n",
    "print(results_2)\n",
    "print(\"*\"*25)\n",
    "print(\"Low/Medium/High Sugar Content\")\n",
    "print(\"*\"*25)\n",
    "print(results_3)"
   ]
  },
  {
   "cell_type": "code",
   "execution_count": null,
   "metadata": {},
   "outputs": [],
   "source": []
  },
  {
   "cell_type": "markdown",
   "metadata": {},
   "source": [
    "Logit :class:`ProblemResults` can be to compute the same types of post-estimation outputs as :class:`ProblemResults` created by a full BLP problem."
   ]
  }
 ],
 "metadata": {
  "kernelspec": {
   "display_name": "Python 3",
   "language": "python",
   "name": "python3"
  },
  "language_info": {
   "codemirror_mode": {
    "name": "ipython",
    "version": 3
   },
   "file_extension": ".py",
   "mimetype": "text/x-python",
   "name": "python",
   "nbconvert_exporter": "python",
   "pygments_lexer": "ipython3",
   "version": "3.6.6"
  }
 },
 "nbformat": 4,
 "nbformat_minor": 2
}
