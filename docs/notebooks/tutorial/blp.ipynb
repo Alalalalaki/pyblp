{
 "cells": [
  {
   "cell_type": "markdown",
   "metadata": {},
   "source": [
    "# The Automobile Problem"
   ]
  },
  {
   "cell_type": "code",
   "execution_count": 16,
   "metadata": {},
   "outputs": [],
   "source": [
    "import pyblp\n",
    "import numpy as np\n",
    "\n",
    "pyblp.options.digits = 3\n",
    "pyblp.options.verbose = False\n",
    "np.set_printoptions(precision=2, threshold=10, linewidth=100)"
   ]
  },
  {
   "cell_type": "markdown",
   "metadata": {},
   "source": [
    "In this tutorial, we'll use data from :ref:`references:Berry, Levinsohn, and Pakes (1995)` to solve the paper's automobile problem.\n",
    "\n",
    "\n",
    "## Loading the Automobile Data\n",
    "\n",
    "We'll use NumPy to read the data."
   ]
  },
  {
   "cell_type": "code",
   "execution_count": 3,
   "metadata": {},
   "outputs": [
    {
     "data": {
      "text/plain": [
       "('market_ids',\n",
       " 'clustering_ids',\n",
       " 'car_ids',\n",
       " 'firm_ids0',\n",
       " 'firm_ids1',\n",
       " 'domestic',\n",
       " 'japan',\n",
       " 'european',\n",
       " 'shares',\n",
       " 'prices',\n",
       " 'hpwt',\n",
       " 'air',\n",
       " 'mpd',\n",
       " 'mpg',\n",
       " 'space',\n",
       " 'trend',\n",
       " 'demand_instruments0',\n",
       " 'demand_instruments1',\n",
       " 'demand_instruments2',\n",
       " 'demand_instruments3',\n",
       " 'demand_instruments4',\n",
       " 'demand_instruments5',\n",
       " 'supply_instruments0',\n",
       " 'supply_instruments1',\n",
       " 'supply_instruments2',\n",
       " 'supply_instruments3',\n",
       " 'supply_instruments4',\n",
       " 'supply_instruments5')"
      ]
     },
     "execution_count": 3,
     "metadata": {},
     "output_type": "execute_result"
    }
   ],
   "source": [
    "product_data = np.recfromcsv(pyblp.data.BLP_PRODUCTS_LOCATION, encoding='utf-8')\n",
    "product_data.dtype.names"
   ]
  },
  {
   "cell_type": "markdown",
   "metadata": {},
   "source": [
    "The product data contains market IDs, product IDs, two sets of firm IDs (the second are IDs after a simple merger, which are used later), shares, prices, a number of product characteristics, and some pre-computed excluded instruments. The product IDs are called clustering IDs because they will be used to compute clustered standard errors. For more information about the instruments and the example data as a whole, refer to the :mod:`data` module.\n",
    "\n",
    "The `agent_data` argument of :class:`Problem` should also be a structured array-like object."
   ]
  },
  {
   "cell_type": "code",
   "execution_count": 4,
   "metadata": {},
   "outputs": [
    {
     "data": {
      "text/plain": [
       "('market_ids',\n",
       " 'weights',\n",
       " 'nodes0',\n",
       " 'nodes1',\n",
       " 'nodes2',\n",
       " 'nodes3',\n",
       " 'nodes4',\n",
       " 'nodes5',\n",
       " 'income')"
      ]
     },
     "execution_count": 4,
     "metadata": {},
     "output_type": "execute_result"
    }
   ],
   "source": [
    "agent_data = np.recfromcsv(pyblp.data.BLP_AGENTS_LOCATION, encoding='utf-8')\n",
    "agent_data.dtype.names"
   ]
  },
  {
   "cell_type": "markdown",
   "metadata": {},
   "source": [
    "The agent data contains market IDs, integration weights, integration nodes, and demographics. In non-example problems, it is usually a better idea to use many more draws, or a more sophisticated :class:`Integration` configuration such as sparse grid quadrature.\n",
    "\n",
    "\n",
    "## Solving the Automobile Problem\n",
    "\n",
    "Unlike the fake cereal problem, we won't absorb any fixed effects in the automobile problem. However, we'll estimate the supply side, so we need to formulate $X_3$ in addition to the three other matrices."
   ]
  },
  {
   "cell_type": "code",
   "execution_count": 6,
   "metadata": {},
   "outputs": [
    {
     "data": {
      "text/plain": [
       "(1 + hpwt + air + mpd + space,\n",
       " 1 + prices + hpwt + air + mpd + space,\n",
       " 1 + log(hpwt) + air + log(mpg) + log(space) + trend)"
      ]
     },
     "execution_count": 6,
     "metadata": {},
     "output_type": "execute_result"
    }
   ],
   "source": [
    "product_formulations = (\n",
    "   pyblp.Formulation('1 + hpwt + air + mpd + space'),\n",
    "   pyblp.Formulation('1 + prices + hpwt + air + mpd + space'),\n",
    "   pyblp.Formulation('1 + log(hpwt) + air + log(mpg) + log(space) + trend')\n",
    ")\n",
    "product_formulations"
   ]
  },
  {
   "cell_type": "code",
   "execution_count": 7,
   "metadata": {},
   "outputs": [
    {
     "data": {
      "text/plain": [
       "I(1 / income)"
      ]
     },
     "execution_count": 7,
     "metadata": {},
     "output_type": "execute_result"
    }
   ],
   "source": [
    "agent_formulation = pyblp.Formulation('0 + I(1 / income)')\n",
    "agent_formulation"
   ]
  },
  {
   "cell_type": "markdown",
   "metadata": {},
   "source": [
    "The original specification for the automobile problem includes the term $\\log(y_i - p_j)$, in which $y$ is income and $p$ are prices. Instead of including this term, which gives rise to a host of numerical problems, we'll follow :ref:`references:Berry, Levinsohn, and Pakes (1999)` and uses its first-order linear approximation, $p_j / y_i$. The above formulation for $d$ includes a column of $1 / y_i$ values, which we'll interact with $p_j$."
   ]
  },
  {
   "cell_type": "code",
   "execution_count": 9,
   "metadata": {},
   "outputs": [
    {
     "data": {
      "text/plain": [
       "Dimensions:\n",
       "========================================================================================================================================================================================\n",
       "   N:       T:              K1:                       K2:                     K3:                D:              MD:                 MS:             ED:         ES:            H:      \n",
       "Products  Markets  Linear Characteristics  Nonlinear Characteristics  Cost Characteristics  Demographics  Demand Instruments  Supply Instruments  Demand FEs  Supply FEs  Nesting Groups\n",
       "--------  -------  ----------------------  -------------------------  --------------------  ------------  ------------------  ------------------  ----------  ----------  --------------\n",
       "  2217      20               5                         6                       6                 1                11                  12              0           0             0       \n",
       "========================================================================================================================================================================================\n",
       "\n",
       "Formulations:\n",
       "======================================================================================\n",
       "       Column Indices:            0          1        2       3          4         5  \n",
       "-----------------------------  --------  ---------  -----  --------  ----------  -----\n",
       " X1: Linear Characteristics       1        hpwt      air     mpd       space          \n",
       "X2: Nonlinear Characteristics     1       prices    hpwt     air        mpd      space\n",
       "  X3: Cost Characteristics        1      log(hpwt)   air   log(mpg)  log(space)  trend\n",
       "       d: Demographics         1/income                                               \n",
       "======================================================================================"
      ]
     },
     "execution_count": 9,
     "metadata": {},
     "output_type": "execute_result"
    }
   ],
   "source": [
    "problem = pyblp.Problem(product_formulations, product_data, agent_formulation, agent_data)\n",
    "problem"
   ]
  },
  {
   "cell_type": "markdown",
   "metadata": {},
   "source": [
    "We'll use published estimates as our starting values for $\\Sigma$. By choosing a column vector of all zeros except for a negative term for the coefficient on $\\log(y_i - p_j)$ as the starting values for $\\Pi$, we're choosing to interact the inverse of income only with prices.\n",
    "\n",
    "We'll also bound our parameters. When using a routine that supports bounds, :class:`Problem` chooses some default bounds to reduce the chance of numerical overflow that happens, for example, when optimization routines try out large parameter values. However, these default bounds are not quite restrictive enough to prevent overflow in the automobile problem, so we'll set our own bounds. In addition to overflow concerns, we'll also bound the diagonal of $\\Sigma$ from below by zero for realism, and we'll make sure that demand is sloping downward by bounding the parameter in $\\Pi$ from above (specifically, we'll use a bound that's slightly smaller than zero because when the parameter is exactly zero, there are matrix inversion problems with computing $\\eta$). Choosing reasonable bounds can be very important."
   ]
  },
  {
   "cell_type": "code",
   "execution_count": 11,
   "metadata": {},
   "outputs": [],
   "source": [
    "initial_sigma = np.diag([3.612, 0, 4.628, 1.818, 1.050, 2.056])\n",
    "initial_pi = np.c_[[0, -10, 0, 0, 0, 0]]\n",
    "sigma_bounds = (\n",
    "   np.zeros_like(initial_sigma),\n",
    "   np.diag([100, 0, 100, 100, 50, 100])\n",
    ")\n",
    "pi_bounds = (\n",
    "   np.c_[[0, -50, 0, 0, 0, 0]],\n",
    "   np.c_[[0, -0.1, 0, 0, 0, 0]]\n",
    ")"
   ]
  },
  {
   "cell_type": "markdown",
   "metadata": {},
   "source": [
    "A linear marginal cost specification is the default, so we'll need to use the `costs_type` argument to employ the log-linear specification used by :ref:`references:Berry, Levinsohn, and Pakes (1995)`. A downside of this specification is that nonpositive estimated marginal costs can create problems for the optimization routine when computing $\\tilde{c}(\\hat{\\theta}) = \\log c(\\hat{\\theta})$. We'll use the `costs_bounds` argument to bound marginal costs from below by a small number. \n",
    "\n",
    "Finally, as in the original paper, we'll use the `W_type` and `se_type` argument to cluster by product IDs, which were specified as `clustering_ids` in product data."
   ]
  },
  {
   "cell_type": "code",
   "execution_count": 14,
   "metadata": {},
   "outputs": [
    {
     "data": {
      "text/plain": [
       "Problem Results Summary:\n",
       "===========================================================================================================================\n",
       "Cumulative  GMM   Optimization   Objective   Total Fixed Point  Total Contraction  Objective    Gradient        Clipped    \n",
       "Total Time  Step   Iterations   Evaluations     Iterations         Evaluations       Value    Infinity Norm  Marginal Costs\n",
       "----------  ----  ------------  -----------  -----------------  -----------------  ---------  -------------  --------------\n",
       " 0:01:51     2         8            12             34214             102883        +2.38E+05    +6.19E+03          0       \n",
       "===========================================================================================================================\n",
       "\n",
       "Linear Estimates (Robust SEs Adjusted for 999 Clusters in Parentheses):\n",
       "====================================================================================\n",
       "Beta:        1          hpwt          air          mpd         space                \n",
       "------  -----------  -----------  -----------  -----------  -----------             \n",
       "         -7.81E+00    +2.39E+00    +1.30E+00    -3.39E+00    +2.27E+00              \n",
       "        (+1.69E+00)  (+2.42E+00)  (+3.39E+00)  (+2.29E+00)  (+6.07E-01)             \n",
       "====================================================================================\n",
       "Gamma:       1        log(hpwt)       air       log(mpg)    log(space)      trend   \n",
       "------  -----------  -----------  -----------  -----------  -----------  -----------\n",
       "         +2.62E+00    +8.31E-01    +8.96E-01    -9.38E-01    -2.61E-01    +2.91E-02 \n",
       "        (+1.95E-01)  (+1.60E-01)  (+8.72E-02)  (+1.88E-01)  (+2.37E-01)  (+5.26E-03)\n",
       "====================================================================================\n",
       "\n",
       "Nonlinear Estimates (Robust SEs Adjusted for 999 Clusters in Parentheses):\n",
       "============================================================================================================\n",
       "Sigma:       1         prices        hpwt          air          mpd         space     |   Pi:     1/income  \n",
       "------  -----------  -----------  -----------  -----------  -----------  -----------  |  ------  -----------\n",
       "  1      +1.02E+00    +0.00E+00    +0.00E+00    +0.00E+00    +0.00E+00    +0.00E+00   |    1      +0.00E+00 \n",
       "        (+3.04E+00)                                                                   |                     \n",
       "                                                                                      |                     \n",
       "prices                +0.00E+00    +0.00E+00    +0.00E+00    +0.00E+00    +0.00E+00   |  prices   -6.82E+00 \n",
       "                                                                                      |          (+1.06E+00)\n",
       "                                                                                      |                     \n",
       " hpwt                              +0.00E+00    +0.00E+00    +0.00E+00    +0.00E+00   |   hpwt    +0.00E+00 \n",
       "                                  (+4.78E+00)                                         |                     \n",
       "                                                                                      |                     \n",
       " air                                            +0.00E+00    +0.00E+00    +0.00E+00   |   air     +0.00E+00 \n",
       "                                               (+6.89E+00)                            |                     \n",
       "                                                                                      |                     \n",
       " mpd                                                         +4.02E+00    +0.00E+00   |   mpd     +0.00E+00 \n",
       "                                                            (+2.45E+00)               |                     \n",
       "                                                                                      |                     \n",
       "space                                                                     +0.00E+00   |  space    +0.00E+00 \n",
       "                                                                         (+1.08E+00)  |                     \n",
       "============================================================================================================"
      ]
     },
     "execution_count": 14,
     "metadata": {},
     "output_type": "execute_result"
    }
   ],
   "source": [
    "results = problem.solve(\n",
    "   initial_sigma,\n",
    "   initial_pi,\n",
    "   sigma_bounds=sigma_bounds,\n",
    "   pi_bounds=pi_bounds,\n",
    "   costs_type='log',\n",
    "   costs_bounds=(0.001, None),\n",
    "   W_type='clustered',\n",
    "   se_type='clustered'\n",
    ")\n",
    "results"
   ]
  },
  {
   "cell_type": "markdown",
   "metadata": {},
   "source": [
    "Here, results are less similar compared to those in the original paper."
   ]
  }
 ],
 "metadata": {
  "kernelspec": {
   "display_name": "Python 3",
   "language": "python",
   "name": "python3"
  },
  "language_info": {
   "codemirror_mode": {
    "name": "ipython",
    "version": 3
   },
   "file_extension": ".py",
   "mimetype": "text/x-python",
   "name": "python",
   "nbconvert_exporter": "python",
   "pygments_lexer": "ipython3",
   "version": "3.6.6"
  }
 },
 "nbformat": 4,
 "nbformat_minor": 2
}
