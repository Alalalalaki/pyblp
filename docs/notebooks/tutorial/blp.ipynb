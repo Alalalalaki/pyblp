{
 "cells": [
  {
   "cell_type": "markdown",
   "metadata": {},
   "source": [
    "## The BLP (95/99) Automobile Problem\n",
    "In this tutorial, we'll use data from :ref:`references:Berry, Levinsohn, and Pakes (1995)` to solve the paper's automobile problem. This notebook illustrates several features of `pyblp`. \n",
    "- Incorporating a Supply Side with Demand Estimates\n",
    "- Allowing for simple $price/income$ _demographic_ effects.\n",
    "- Calculating clustered standard errors\n",
    "- Calculating Optimal Instruments"
   ]
  },
  {
   "cell_type": "code",
   "execution_count": 3,
   "metadata": {},
   "outputs": [
    {
     "data": {
      "text/plain": [
       "'0.5.0'"
      ]
     },
     "execution_count": 3,
     "metadata": {},
     "output_type": "execute_result"
    }
   ],
   "source": [
    "import pyblp\n",
    "import numpy as np\n",
    "import pandas as pd \n",
    "\n",
    "pyblp.options.digits = 3\n",
    "pyblp.options.verbose = False\n",
    "np.set_printoptions(precision=2, threshold=10, linewidth=100)\n",
    "pyblp.__version__"
   ]
  },
  {
   "cell_type": "markdown",
   "metadata": {},
   "source": [
    "### Loading the Automobile Data\n",
    "We'll use NumPy to read the data. We load two datasets:\n",
    "1. The __product data__ with prices, shares, and product characteristics\n",
    "2. The __agent data__ with draws from the distribution of heterogeneity"
   ]
  },
  {
   "cell_type": "code",
   "execution_count": 7,
   "metadata": {},
   "outputs": [
    {
     "data": {
      "text/html": [
       "<div>\n",
       "<style scoped>\n",
       "    .dataframe tbody tr th:only-of-type {\n",
       "        vertical-align: middle;\n",
       "    }\n",
       "\n",
       "    .dataframe tbody tr th {\n",
       "        vertical-align: top;\n",
       "    }\n",
       "\n",
       "    .dataframe thead th {\n",
       "        text-align: right;\n",
       "    }\n",
       "</style>\n",
       "<table border=\"1\" class=\"dataframe\">\n",
       "  <thead>\n",
       "    <tr style=\"text-align: right;\">\n",
       "      <th></th>\n",
       "      <th>market_ids</th>\n",
       "      <th>clustering_ids</th>\n",
       "      <th>car_ids</th>\n",
       "      <th>firm_ids0</th>\n",
       "      <th>firm_ids1</th>\n",
       "      <th>domestic</th>\n",
       "      <th>japan</th>\n",
       "      <th>european</th>\n",
       "      <th>shares</th>\n",
       "      <th>prices</th>\n",
       "      <th>...</th>\n",
       "      <th>demand_instruments2</th>\n",
       "      <th>demand_instruments3</th>\n",
       "      <th>demand_instruments4</th>\n",
       "      <th>demand_instruments5</th>\n",
       "      <th>supply_instruments0</th>\n",
       "      <th>supply_instruments1</th>\n",
       "      <th>supply_instruments2</th>\n",
       "      <th>supply_instruments3</th>\n",
       "      <th>supply_instruments4</th>\n",
       "      <th>supply_instruments5</th>\n",
       "    </tr>\n",
       "  </thead>\n",
       "  <tbody>\n",
       "    <tr>\n",
       "      <th>0</th>\n",
       "      <td>1971</td>\n",
       "      <td>AMGREM71</td>\n",
       "      <td>129</td>\n",
       "      <td>15</td>\n",
       "      <td>15</td>\n",
       "      <td>1</td>\n",
       "      <td>0</td>\n",
       "      <td>0</td>\n",
       "      <td>0.001051</td>\n",
       "      <td>4.935802</td>\n",
       "      <td>...</td>\n",
       "      <td>0.0</td>\n",
       "      <td>-0.593346</td>\n",
       "      <td>-0.346601</td>\n",
       "      <td>-0.198354</td>\n",
       "      <td>0.559897</td>\n",
       "      <td>0.280253</td>\n",
       "      <td>0.0</td>\n",
       "      <td>0.783835</td>\n",
       "      <td>0.407806</td>\n",
       "      <td>0.030212</td>\n",
       "    </tr>\n",
       "    <tr>\n",
       "      <th>1</th>\n",
       "      <td>1971</td>\n",
       "      <td>AMHORN71</td>\n",
       "      <td>130</td>\n",
       "      <td>15</td>\n",
       "      <td>15</td>\n",
       "      <td>1</td>\n",
       "      <td>0</td>\n",
       "      <td>0</td>\n",
       "      <td>0.000670</td>\n",
       "      <td>5.516049</td>\n",
       "      <td>...</td>\n",
       "      <td>0.0</td>\n",
       "      <td>-0.619844</td>\n",
       "      <td>-0.380140</td>\n",
       "      <td>-0.186345</td>\n",
       "      <td>0.566952</td>\n",
       "      <td>0.259925</td>\n",
       "      <td>0.0</td>\n",
       "      <td>0.829513</td>\n",
       "      <td>0.448638</td>\n",
       "      <td>0.008836</td>\n",
       "    </tr>\n",
       "    <tr>\n",
       "      <th>2</th>\n",
       "      <td>1971</td>\n",
       "      <td>AMJAVL71</td>\n",
       "      <td>132</td>\n",
       "      <td>15</td>\n",
       "      <td>15</td>\n",
       "      <td>1</td>\n",
       "      <td>0</td>\n",
       "      <td>0</td>\n",
       "      <td>0.000341</td>\n",
       "      <td>7.108642</td>\n",
       "      <td>...</td>\n",
       "      <td>0.0</td>\n",
       "      <td>-0.532932</td>\n",
       "      <td>-0.432497</td>\n",
       "      <td>-0.191577</td>\n",
       "      <td>0.565679</td>\n",
       "      <td>0.243800</td>\n",
       "      <td>0.0</td>\n",
       "      <td>0.700153</td>\n",
       "      <td>0.525192</td>\n",
       "      <td>0.020907</td>\n",
       "    </tr>\n",
       "    <tr>\n",
       "      <th>3</th>\n",
       "      <td>1971</td>\n",
       "      <td>AMMATA71</td>\n",
       "      <td>134</td>\n",
       "      <td>15</td>\n",
       "      <td>15</td>\n",
       "      <td>1</td>\n",
       "      <td>0</td>\n",
       "      <td>0</td>\n",
       "      <td>0.000522</td>\n",
       "      <td>6.839506</td>\n",
       "      <td>...</td>\n",
       "      <td>0.0</td>\n",
       "      <td>-0.529112</td>\n",
       "      <td>-0.468994</td>\n",
       "      <td>-0.181281</td>\n",
       "      <td>0.571697</td>\n",
       "      <td>0.220392</td>\n",
       "      <td>0.0</td>\n",
       "      <td>0.697406</td>\n",
       "      <td>0.580992</td>\n",
       "      <td>0.002274</td>\n",
       "    </tr>\n",
       "    <tr>\n",
       "      <th>4</th>\n",
       "      <td>1971</td>\n",
       "      <td>AMAMBS71</td>\n",
       "      <td>136</td>\n",
       "      <td>15</td>\n",
       "      <td>15</td>\n",
       "      <td>1</td>\n",
       "      <td>0</td>\n",
       "      <td>0</td>\n",
       "      <td>0.000442</td>\n",
       "      <td>8.928395</td>\n",
       "      <td>...</td>\n",
       "      <td>0.0</td>\n",
       "      <td>-0.452174</td>\n",
       "      <td>-0.487211</td>\n",
       "      <td>-0.199757</td>\n",
       "      <td>0.561929</td>\n",
       "      <td>0.233895</td>\n",
       "      <td>0.0</td>\n",
       "      <td>0.577626</td>\n",
       "      <td>0.609559</td>\n",
       "      <td>0.037782</td>\n",
       "    </tr>\n",
       "  </tbody>\n",
       "</table>\n",
       "<p>5 rows × 28 columns</p>\n",
       "</div>"
      ],
      "text/plain": [
       "   market_ids clustering_ids  car_ids  firm_ids0  firm_ids1  domestic  japan  \\\n",
       "0        1971       AMGREM71      129         15         15         1      0   \n",
       "1        1971       AMHORN71      130         15         15         1      0   \n",
       "2        1971       AMJAVL71      132         15         15         1      0   \n",
       "3        1971       AMMATA71      134         15         15         1      0   \n",
       "4        1971       AMAMBS71      136         15         15         1      0   \n",
       "\n",
       "   european    shares    prices         ...           demand_instruments2  \\\n",
       "0         0  0.001051  4.935802         ...                           0.0   \n",
       "1         0  0.000670  5.516049         ...                           0.0   \n",
       "2         0  0.000341  7.108642         ...                           0.0   \n",
       "3         0  0.000522  6.839506         ...                           0.0   \n",
       "4         0  0.000442  8.928395         ...                           0.0   \n",
       "\n",
       "   demand_instruments3  demand_instruments4  demand_instruments5  \\\n",
       "0            -0.593346            -0.346601            -0.198354   \n",
       "1            -0.619844            -0.380140            -0.186345   \n",
       "2            -0.532932            -0.432497            -0.191577   \n",
       "3            -0.529112            -0.468994            -0.181281   \n",
       "4            -0.452174            -0.487211            -0.199757   \n",
       "\n",
       "   supply_instruments0  supply_instruments1  supply_instruments2  \\\n",
       "0             0.559897             0.280253                  0.0   \n",
       "1             0.566952             0.259925                  0.0   \n",
       "2             0.565679             0.243800                  0.0   \n",
       "3             0.571697             0.220392                  0.0   \n",
       "4             0.561929             0.233895                  0.0   \n",
       "\n",
       "   supply_instruments3  supply_instruments4  supply_instruments5  \n",
       "0             0.783835             0.407806             0.030212  \n",
       "1             0.829513             0.448638             0.008836  \n",
       "2             0.700153             0.525192             0.020907  \n",
       "3             0.697406             0.580992             0.002274  \n",
       "4             0.577626             0.609559             0.037782  \n",
       "\n",
       "[5 rows x 28 columns]"
      ]
     },
     "execution_count": 7,
     "metadata": {},
     "output_type": "execute_result"
    }
   ],
   "source": [
    "product_data = np.recfromcsv(pyblp.data.BLP_PRODUCTS_LOCATION, encoding='utf-8')\n",
    "pd.DataFrame(product_data).head()"
   ]
  },
  {
   "cell_type": "markdown",
   "metadata": {},
   "source": [
    "The product data contains __market_ID__'s, __product_ID__'s, two sets of __firm_ID__'s (the second are IDs after a simple merger, which are used later), __shares__, __prices__, a number of product characteristics, and some pre-computed excluded __demand_instrumentsX__ and __supply_instrumentsX__. The __product_ID__'s are called __clustering_ID__'s because they will be used to compute clustered standard errors. For more information about the instruments and the example data as a whole, refer to the :mod:`data` module."
   ]
  },
  {
   "cell_type": "markdown",
   "metadata": {},
   "source": [
    "The __agent_data__ argument of :class:`Problem` should also be a structured array-like object.\n",
    "\n",
    "The __agent_data__ contains __market_ID__'s, integration __weights__ $w_{it}$, integration nodes $\\nu_{it}$, and demographics $d_{it}$. Here we use $I_{t}=200$ equally weighted draws per market.\n",
    "\n",
    "In non-example problems, it is usually a better idea to use many more draws, or a more sophisticated :class:`Integration` configuration such as sparse grid quadrature.\n"
   ]
  },
  {
   "cell_type": "code",
   "execution_count": 6,
   "metadata": {},
   "outputs": [
    {
     "data": {
      "text/html": [
       "<div>\n",
       "<style scoped>\n",
       "    .dataframe tbody tr th:only-of-type {\n",
       "        vertical-align: middle;\n",
       "    }\n",
       "\n",
       "    .dataframe tbody tr th {\n",
       "        vertical-align: top;\n",
       "    }\n",
       "\n",
       "    .dataframe thead th {\n",
       "        text-align: right;\n",
       "    }\n",
       "</style>\n",
       "<table border=\"1\" class=\"dataframe\">\n",
       "  <thead>\n",
       "    <tr style=\"text-align: right;\">\n",
       "      <th></th>\n",
       "      <th>market_ids</th>\n",
       "      <th>weights</th>\n",
       "      <th>nodes0</th>\n",
       "      <th>nodes1</th>\n",
       "      <th>nodes2</th>\n",
       "      <th>nodes3</th>\n",
       "      <th>nodes4</th>\n",
       "      <th>nodes5</th>\n",
       "      <th>income</th>\n",
       "    </tr>\n",
       "  </thead>\n",
       "  <tbody>\n",
       "    <tr>\n",
       "      <th>0</th>\n",
       "      <td>1971</td>\n",
       "      <td>0.005</td>\n",
       "      <td>0.548814</td>\n",
       "      <td>0.292642</td>\n",
       "      <td>0.457760</td>\n",
       "      <td>0.564690</td>\n",
       "      <td>0.395537</td>\n",
       "      <td>0.392173</td>\n",
       "      <td>9.728478</td>\n",
       "    </tr>\n",
       "    <tr>\n",
       "      <th>1</th>\n",
       "      <td>1971</td>\n",
       "      <td>0.005</td>\n",
       "      <td>0.715189</td>\n",
       "      <td>0.566518</td>\n",
       "      <td>0.376918</td>\n",
       "      <td>0.839746</td>\n",
       "      <td>0.844017</td>\n",
       "      <td>0.041157</td>\n",
       "      <td>7.908957</td>\n",
       "    </tr>\n",
       "    <tr>\n",
       "      <th>2</th>\n",
       "      <td>1971</td>\n",
       "      <td>0.005</td>\n",
       "      <td>0.602763</td>\n",
       "      <td>0.137414</td>\n",
       "      <td>0.702335</td>\n",
       "      <td>0.376884</td>\n",
       "      <td>0.150442</td>\n",
       "      <td>0.923301</td>\n",
       "      <td>11.079404</td>\n",
       "    </tr>\n",
       "    <tr>\n",
       "      <th>3</th>\n",
       "      <td>1971</td>\n",
       "      <td>0.005</td>\n",
       "      <td>0.544883</td>\n",
       "      <td>0.349712</td>\n",
       "      <td>0.207324</td>\n",
       "      <td>0.499676</td>\n",
       "      <td>0.306309</td>\n",
       "      <td>0.406235</td>\n",
       "      <td>17.641671</td>\n",
       "    </tr>\n",
       "    <tr>\n",
       "      <th>4</th>\n",
       "      <td>1971</td>\n",
       "      <td>0.005</td>\n",
       "      <td>0.423655</td>\n",
       "      <td>0.053216</td>\n",
       "      <td>0.074280</td>\n",
       "      <td>0.081302</td>\n",
       "      <td>0.094570</td>\n",
       "      <td>0.944282</td>\n",
       "      <td>12.423995</td>\n",
       "    </tr>\n",
       "  </tbody>\n",
       "</table>\n",
       "</div>"
      ],
      "text/plain": [
       "   market_ids  weights    nodes0    nodes1    nodes2    nodes3    nodes4  \\\n",
       "0        1971    0.005  0.548814  0.292642  0.457760  0.564690  0.395537   \n",
       "1        1971    0.005  0.715189  0.566518  0.376918  0.839746  0.844017   \n",
       "2        1971    0.005  0.602763  0.137414  0.702335  0.376884  0.150442   \n",
       "3        1971    0.005  0.544883  0.349712  0.207324  0.499676  0.306309   \n",
       "4        1971    0.005  0.423655  0.053216  0.074280  0.081302  0.094570   \n",
       "\n",
       "     nodes5     income  \n",
       "0  0.392173   9.728478  \n",
       "1  0.041157   7.908957  \n",
       "2  0.923301  11.079404  \n",
       "3  0.406235  17.641671  \n",
       "4  0.944282  12.423995  "
      ]
     },
     "execution_count": 6,
     "metadata": {},
     "output_type": "execute_result"
    }
   ],
   "source": [
    "agent_data = np.recfromcsv(pyblp.data.BLP_AGENTS_LOCATION, encoding='utf-8')\n",
    "pd.DataFrame(agent_data).head()"
   ]
  },
  {
   "cell_type": "markdown",
   "metadata": {},
   "source": [
    "### Setting up the Automobile Problem\n",
    "- Unlike the fake cereal problem, we won't absorb any fixed effects in the automobile problem, so the linear part of demand $X_1$ has more components.\n",
    "- We also need to specify a formula for the random coefficients $X_2$ including a random coefficient on the constant, which captures correlation among all inside goods.\n",
    "- The new addition relative to the Cereal example is that we add a supply side formula $X_3$ for marginal costs.\n",
    "- The `patsy` style formulas support functions of regresors including $\\log()$ and $x^2$.\n",
    "\n",
    "We stack the three product formulations in order."
   ]
  },
  {
   "cell_type": "code",
   "execution_count": 19,
   "metadata": {},
   "outputs": [
    {
     "data": {
      "text/plain": [
       "(1 + hpwt + air + mpd + space,\n",
       " 1 + prices + hpwt + air + mpd + space,\n",
       " 1 + log(hpwt) + air + log(mpg) + log(space) + trend)"
      ]
     },
     "execution_count": 19,
     "metadata": {},
     "output_type": "execute_result"
    }
   ],
   "source": [
    "product_formulations = (\n",
    "   # linear demand\n",
    "   pyblp.Formulation('1 + hpwt + air + mpd + space'),\n",
    "   # nonlinear demand\n",
    "   pyblp.Formulation('1 + prices + hpwt + air + mpd + space'),\n",
    "   # supply model\n",
    "   pyblp.Formulation('1 + log(hpwt) + air + log(mpg) + log(space) + trend')\n",
    ")\n",
    "product_formulations"
   ]
  },
  {
   "cell_type": "markdown",
   "metadata": {},
   "source": [
    "The original specification for the automobile problem includes the term $\\log(y_i - p_j)$, in which $y$ is income and $p$ are prices. Instead of including this term, which gives rise to a host of numerical problems, we'll follow :ref:`references:Berry, Levinsohn, and Pakes (1999)` and use its first-order linear approximation, $p_j / y_i$. \n",
    "\n",
    "The agent formulation for $d$ includes a column of $1 / y_i$ values, which we'll interact with $p_j$. To do this, we will treat draws of $y_i$ as _demographic_ variables."
   ]
  },
  {
   "cell_type": "code",
   "execution_count": 20,
   "metadata": {},
   "outputs": [
    {
     "data": {
      "text/plain": [
       "I(1 / income)"
      ]
     },
     "execution_count": 20,
     "metadata": {},
     "output_type": "execute_result"
    }
   ],
   "source": [
    "agent_formulation = pyblp.Formulation('0 + I(1 / income)')\n",
    "agent_formulation"
   ]
  },
  {
   "cell_type": "markdown",
   "metadata": {},
   "source": [
    "As in the cereal example, the :class:`Problem` can be constructed by combining the __product formulations__, __product data__, __agent formulation__ and __agent data__. \n",
    "\n",
    "We provide a detailed explanation of the problem output, beginning with the _Dimensions_ table\n",
    "- $N$ denotes the total number of observations (products and markets).\n",
    "- $T$ denotes the number of markets.\n",
    "- $K_1$ is the number of linear demand parameters.\n",
    "- $K_2$ is the number of nonlinear demand parameters.\n",
    "- $K_3$ is the number of linear supply parameters.\n",
    "- $D$ is the number of demographic variables.\n",
    "- $M_d$ is the number of demand (excluded) instruments\n",
    "- $M_s$ is the number of supply (exlcuded) instruments.\n",
    "\n",
    "The _Formulations_ table describes all four fomulas (Linear Characteristics, Nonlinear Characteristics, Cost Characteristics, and Demographics)."
   ]
  },
  {
   "cell_type": "code",
   "execution_count": 25,
   "metadata": {},
   "outputs": [
    {
     "data": {
      "text/plain": [
       "Dimensions:\n",
       "============================================\n",
       " N     T    K1    K2    K3    D    MD    MS \n",
       "----  ---  ----  ----  ----  ---  ----  ----\n",
       "2217  20    5     6     6     1    11    12 \n",
       "============================================\n",
       "\n",
       "Formulations:\n",
       "======================================================================================\n",
       "       Column Indices:            0          1        2       3          4         5  \n",
       "-----------------------------  --------  ---------  -----  --------  ----------  -----\n",
       " X1: Linear Characteristics       1        hpwt      air     mpd       space          \n",
       "X2: Nonlinear Characteristics     1       prices    hpwt     air        mpd      space\n",
       "  X3: Cost Characteristics        1      log(hpwt)   air   log(mpg)  log(space)  trend\n",
       "       d: Demographics         1/income                                               \n",
       "======================================================================================"
      ]
     },
     "execution_count": 25,
     "metadata": {},
     "output_type": "execute_result"
    }
   ],
   "source": [
    "problem = pyblp.Problem(product_formulations, product_data, agent_formulation, agent_data)\n",
    "problem"
   ]
  },
  {
   "cell_type": "markdown",
   "metadata": {},
   "source": [
    "### Solving the Automobile Problem"
   ]
  },
  {
   "cell_type": "markdown",
   "metadata": {},
   "source": [
    "The only decisions remaining are:\n",
    "- Choosing starting values for $\\Sigma_0, \\Pi_0$.\n",
    "- Potentially choosing bounds for $\\Sigma, \\Pi$.\n",
    "- Choosing a functional form for $mc_{jt}$ (either _linear_ or _log_)\n",
    "\n",
    "The decisions we will use are:\n",
    "- Use published estimates as our starting values for $\\Sigma_0$.\n",
    "- Interact income $1/y_i$ only with prices and use the published estimates on $\\log(y_i - p_j)$ as our starting value for $\\alpha$.\n",
    "- Bound $\\Sigma_0$ to be positive (these are standard deviations) and diagonal.\n",
    "- Bound the $price/income$ coefficient to be negative. (specifically, we'll use a bound that's slightly smaller than zero because when the parameter is exactly zero, there are matrix inversion problems with computing $\\eta$)\n",
    "\n",
    "When using a routine that supports bounds, :class:`Problem` chooses some default bounds to reduce the chance of numerical overflow that happens, for example, when optimization routines try out large parameter values. However, these default bounds are not quite restrictive enough to prevent overflow in the automobile problem, so we'll set our own bounds. \n",
    "\n",
    "Choosing reasonable bounds can be very important."
   ]
  },
  {
   "cell_type": "code",
   "execution_count": 34,
   "metadata": {},
   "outputs": [],
   "source": [
    "initial_sigma = np.diag([3.612, 0, 4.628, 1.818, 1.050, 2.056])\n",
    "initial_pi = np.c_[[0, -10, 0, 0, 0, 0]]\n",
    "sigma_bounds = (\n",
    "   -np.diag([100, 0, 100, 100, 50, 100]),\n",
    "   np.diag([100, 0, 100, 100, 50, 100])\n",
    ")\n",
    "pi_bounds = (\n",
    "   np.c_[[0, -50, 0, 0, 0, 0]],\n",
    "   np.c_[[0, -0.1, 0, 0, 0, 0]]\n",
    ")"
   ]
  },
  {
   "cell_type": "markdown",
   "metadata": {},
   "source": [
    "A linear marginal cost specification is the default in `pyblp`, so we'll need to use the __costs_type__ argument to employ the log-linear specification used by :ref:`references:Berry, Levinsohn, and Pakes (1995)`. A downside of this specification is that nonpositive estimated marginal costs can create problems for the optimization routine when computing $\\log c(\\hat{\\theta})$. We'll use the __costs_bounds__ argument to bound marginal costs from below by a small number. \n",
    "\n",
    "Finally, as in the original paper, we'll use the `W_type` and `se_type` argument to cluster by product IDs, which were specified as `clustering_ids` in product data."
   ]
  },
  {
   "cell_type": "code",
   "execution_count": 35,
   "metadata": {},
   "outputs": [
    {
     "data": {
      "text/plain": [
       "Problem Results Summary:\n",
       "===========================================================================================================================\n",
       "Cumulative  GMM   Optimization   Objective   Total Fixed Point  Total Contraction  Objective    Gradient        Clipped    \n",
       "Total Time  Step   Iterations   Evaluations     Iterations         Evaluations       Value    Infinity Norm  Marginal Costs\n",
       "----------  ----  ------------  -----------  -----------------  -----------------  ---------  -------------  --------------\n",
       " 0:02:26     2         21           29             21551              65180        +1.68E+05    +1.38E+01          0       \n",
       "===========================================================================================================================\n",
       "\n",
       "Linear Estimates (Robust SEs Adjusted for 999 Clusters in Parentheses):\n",
       "====================================================================================\n",
       "Beta:        1          hpwt          air          mpd         space                \n",
       "------  -----------  -----------  -----------  -----------  -----------             \n",
       "         -3.92E+00    +1.35E+01    +4.33E+00    -1.46E+00    +4.90E+00              \n",
       "        (+2.53E+00)  (+4.27E+00)  (+2.35E+00)  (+1.70E+00)  (+1.33E+00)             \n",
       "====================================================================================\n",
       "Gamma:       1        log(hpwt)       air       log(mpg)    log(space)      trend   \n",
       "------  -----------  -----------  -----------  -----------  -----------  -----------\n",
       "         +2.69E+00    +8.35E-01    +8.02E-01    -6.47E-01    -1.33E-01    +1.91E-02 \n",
       "        (+2.00E-01)  (+1.54E-01)  (+8.64E-02)  (+1.76E-01)  (+1.91E-01)  (+4.56E-03)\n",
       "====================================================================================\n",
       "\n",
       "Nonlinear Estimates (Robust SEs Adjusted for 999 Clusters in Parentheses):\n",
       "============================================================================================================\n",
       "Sigma:       1         prices        hpwt          air          mpd         space     |   Pi:     1/income  \n",
       "------  -----------  -----------  -----------  -----------  -----------  -----------  |  ------  -----------\n",
       "  1      -3.89E+00    +0.00E+00    +0.00E+00    +0.00E+00    +0.00E+00    +0.00E+00   |    1      +0.00E+00 \n",
       "        (+5.85E+00)                                                                   |                     \n",
       "                                                                                      |                     \n",
       "prices                +0.00E+00    +0.00E+00    +0.00E+00    +0.00E+00    +0.00E+00   |  prices   -8.16E+00 \n",
       "                                                                                      |          (+2.04E+00)\n",
       "                                                                                      |                     \n",
       " hpwt                              -1.00E+02    +0.00E+00    +0.00E+00    +0.00E+00   |   hpwt    +0.00E+00 \n",
       "                                  (+6.75E+01)                                         |                     \n",
       "                                                                                      |                     \n",
       " air                                            -9.03E+00    +0.00E+00    +0.00E+00   |   air     +0.00E+00 \n",
       "                                               (+1.14E+01)                            |                     \n",
       "                                                                                      |                     \n",
       " mpd                                                         +2.32E+00    +0.00E+00   |   mpd     +0.00E+00 \n",
       "                                                            (+2.36E+00)               |                     \n",
       "                                                                                      |                     \n",
       "space                                                                     -3.82E+00   |  space    +0.00E+00 \n",
       "                                                                         (+2.92E+00)  |                     \n",
       "============================================================================================================"
      ]
     },
     "execution_count": 35,
     "metadata": {},
     "output_type": "execute_result"
    }
   ],
   "source": [
    "results = problem.solve(\n",
    "   initial_sigma,\n",
    "   initial_pi,\n",
    "   sigma_bounds=sigma_bounds,\n",
    "   pi_bounds=pi_bounds,\n",
    "   costs_type='log',\n",
    "   costs_bounds=(0.001, None),\n",
    "   W_type='clustered',\n",
    "   se_type='clustered'\n",
    ")\n",
    "results"
   ]
  },
  {
   "cell_type": "markdown",
   "metadata": {},
   "source": [
    "There are some discrepancies between our results and the original paper, the instruments we constructed to are meant to mimic the original instruments, which we were unable to re-construct perfectly."
   ]
  }
 ],
 "metadata": {
  "kernelspec": {
   "display_name": "Python 3",
   "language": "python",
   "name": "python3"
  },
  "language_info": {
   "codemirror_mode": {
    "name": "ipython",
    "version": 3
   },
   "file_extension": ".py",
   "mimetype": "text/x-python",
   "name": "python",
   "nbconvert_exporter": "python",
   "pygments_lexer": "ipython3",
   "version": "3.6.6"
  }
 },
 "nbformat": 4,
 "nbformat_minor": 2
}
