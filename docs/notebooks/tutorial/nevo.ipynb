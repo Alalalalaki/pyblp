{
 "cells": [
  {
   "cell_type": "markdown",
   "metadata": {},
   "source": [
    "# The Fake Cereal Problem"
   ]
  },
  {
   "cell_type": "code",
   "execution_count": 17,
   "metadata": {},
   "outputs": [],
   "source": [
    "%matplotlib inline\n",
    "\n",
    "import pyblp\n",
    "import numpy as np\n",
    "import matplotlib.pyplot as plt\n",
    "\n",
    "pyblp.options.digits = 3\n",
    "pyblp.options.verbose = False\n",
    "np.set_printoptions(precision=2, threshold=10, linewidth=100)"
   ]
  },
  {
   "cell_type": "markdown",
   "metadata": {},
   "source": [
    "In this tutorial, we'll use data from [Nevo (2000)](../../references.rst#nevo-2000) to solve the paper's fake cereal problem. Locations of CSV files that contain the data are in the `pyblp.data` module.\n",
    "\n",
    "## Configuring Data\n",
    "\n",
    "The `product_data` argument of `pyblp.Problem` should be a structured array-like object with fields that store data. Product data can be a structured `pyblp.numpy.ndarray`, a `pyblp.pandas.DataFrame`, or other similar objects. We'll use `numpy` to read the data."
   ]
  },
  {
   "cell_type": "code",
   "execution_count": 4,
   "metadata": {},
   "outputs": [
    {
     "data": {
      "text/plain": [
       "('market_ids',\n",
       " 'city_ids',\n",
       " 'quarter',\n",
       " 'product_ids',\n",
       " 'firm_ids0',\n",
       " 'firm_ids1',\n",
       " 'brand_ids',\n",
       " 'shares',\n",
       " 'prices',\n",
       " 'sugar',\n",
       " 'mushy',\n",
       " 'demand_instruments0',\n",
       " 'demand_instruments1',\n",
       " 'demand_instruments2',\n",
       " 'demand_instruments3',\n",
       " 'demand_instruments4',\n",
       " 'demand_instruments5',\n",
       " 'demand_instruments6',\n",
       " 'demand_instruments7',\n",
       " 'demand_instruments8',\n",
       " 'demand_instruments9',\n",
       " 'demand_instruments10',\n",
       " 'demand_instruments11',\n",
       " 'demand_instruments12',\n",
       " 'demand_instruments13',\n",
       " 'demand_instruments14',\n",
       " 'demand_instruments15',\n",
       " 'demand_instruments16',\n",
       " 'demand_instruments17',\n",
       " 'demand_instruments18',\n",
       " 'demand_instruments19')"
      ]
     },
     "execution_count": 4,
     "metadata": {},
     "output_type": "execute_result"
    }
   ],
   "source": [
    "product_data = np.recfromcsv(pyblp.data.NEVO_PRODUCTS_LOCATION, encoding='utf-8')\n",
    "product_data.dtype.names"
   ]
  },
  {
   "cell_type": "markdown",
   "metadata": {},
   "source": [
    "The product data contains market IDs, product IDs, two sets of firm IDs (the second are IDs after a simple merger, which are used later), shares, prices, a number of product characteristics, and some pre-computed excluded instruments. The product IDs will be used to construct fixed effects. For more information about the instruments and the example data as a whole, refer to the `pyblp.data` module.\n",
    "\n",
    "The `agent_data` argument of `pyblp.Problem` should also be a structured array-like object."
   ]
  },
  {
   "cell_type": "code",
   "execution_count": 5,
   "metadata": {},
   "outputs": [
    {
     "data": {
      "text/plain": [
       "('market_ids',\n",
       " 'city_ids',\n",
       " 'quarter',\n",
       " 'weights',\n",
       " 'nodes0',\n",
       " 'nodes1',\n",
       " 'nodes2',\n",
       " 'nodes3',\n",
       " 'income',\n",
       " 'income_squared',\n",
       " 'age',\n",
       " 'child')"
      ]
     },
     "execution_count": 5,
     "metadata": {},
     "output_type": "execute_result"
    }
   ],
   "source": [
    "agent_data = np.recfromcsv(pyblp.data.NEVO_AGENTS_LOCATION, encoding='utf-8')\n",
    "agent_data.dtype.names"
   ]
  },
  {
   "cell_type": "markdown",
   "metadata": {},
   "source": [
    "The agent data contains market IDs, integration weights, integration nodes, and demographics. In non-example problems, it is usually a better idea to use many more draws, or a more sophisticated `pyblp.Integration` configuration such as sparse grid quadrature.\n",
    "\n",
    "\n",
    "## Solving the Problem\n",
    "\n",
    "Formulations, product data, and either agent data or an integration configuration are collectively used to initialize a `pyblp.Problem`. Once initialized, `pyblp.Problem.solve` runs the estimation routine. The arguments to `pyblp.Problem.solve` configure how estimation is performed. For example, `optimization` and `iteration` arguments configure the optimization and iteration routines that are used by the outer and inner loops of estimation.\n",
    "\n",
    "Up to four `pyblp.Formulation` configurations can be used to configure a `pyblp.Problem`. For the fake cereal problem, we'll specify formulations for $X_1$, $X_2$, and $d$. The formulation for $X_1$ consists of prices and product fixed effects, which we will absorb into $X_1$ with the `absorb` argument of `pyblp.Formulation`.  Since `sugar` and `mushy` are collinear with `product_ids`, it's okay to only include them in $X_2$."
   ]
  },
  {
   "cell_type": "code",
   "execution_count": 8,
   "metadata": {},
   "outputs": [
    {
     "data": {
      "text/plain": [
       "(prices + Absorb[C(product_ids)], 1 + prices + sugar + mushy)"
      ]
     },
     "execution_count": 8,
     "metadata": {},
     "output_type": "execute_result"
    }
   ],
   "source": [
    "product_formulations = (\n",
    "   pyblp.Formulation('0 + prices', absorb='C(product_ids)'),\n",
    "   pyblp.Formulation('1 + prices + sugar + mushy')\n",
    ")\n",
    "product_formulations"
   ]
  },
  {
   "cell_type": "code",
   "execution_count": 9,
   "metadata": {},
   "outputs": [
    {
     "data": {
      "text/plain": [
       "income + income_squared + age + child"
      ]
     },
     "execution_count": 9,
     "metadata": {},
     "output_type": "execute_result"
    }
   ],
   "source": [
    "agent_formulation = pyblp.Formulation('0 + income + income_squared + age + child')\n",
    "agent_formulation"
   ]
  },
  {
   "cell_type": "code",
   "execution_count": 11,
   "metadata": {},
   "outputs": [
    {
     "data": {
      "text/plain": [
       "Dimensions:\n",
       "========================================================================================================================================================================================\n",
       "   N:       T:              K1:                       K2:                     K3:                D:              MD:                 MS:             ED:         ES:            H:      \n",
       "Products  Markets  Linear Characteristics  Nonlinear Characteristics  Cost Characteristics  Demographics  Demand Instruments  Supply Instruments  Demand FEs  Supply FEs  Nesting Groups\n",
       "--------  -------  ----------------------  -------------------------  --------------------  ------------  ------------------  ------------------  ----------  ----------  --------------\n",
       "  2256      94               1                         4                       0                 4                20                  0               1           0             0       \n",
       "========================================================================================================================================================================================\n",
       "\n",
       "Formulations:\n",
       "===================================================================\n",
       "       Column Indices:           0           1           2      3  \n",
       "-----------------------------  ------  --------------  -----  -----\n",
       " X1: Linear Characteristics    prices                              \n",
       "X2: Nonlinear Characteristics    1         prices      sugar  mushy\n",
       "       d: Demographics         income  income_squared   age   child\n",
       "==================================================================="
      ]
     },
     "execution_count": 11,
     "metadata": {},
     "output_type": "execute_result"
    }
   ],
   "source": [
    "problem = pyblp.Problem(product_formulations, product_data, agent_formulation, agent_data)\n",
    "problem"
   ]
  },
  {
   "cell_type": "markdown",
   "metadata": {},
   "source": [
    "If we were interested in estimates for each product, we could replace the formulation for $X_1$ with `pyblp.Formulation('prices + C(product_ids)')`. Absorption of fixed effects yields the same first-stage results as does including them as indicator variables, although results for GMM stages after the first may be slightly different because the two methods can give rise to different weighting matrices.\n",
    "\n",
    "Inspecting the attributes of the `pyblp.Problem` instance helps to confirm that the problem has been configured correctly. For example, inspecting `pyblp.Problem.products` and `pyblp.Problem.agents` confirms that product data were structured correctly and that agent data were built correctly."
   ]
  },
  {
   "cell_type": "code",
   "execution_count": 12,
   "metadata": {},
   "outputs": [
    {
     "data": {
      "text/plain": [
       "rec.array([(['C01Q1'], [1, 1], ['F1B04'], [], [], [], [], [0.01], [-2.50e-01,  4.09e-02, -1.58e+00, -2.69e-01, -1.00e-02,  6.93e-03, -9.22e-01,  5.11e-03,  1.28e-01,  2.79e-01,  1.98e-01,  2.46e-01, -4.14e-03, -3.56e-02,  7.06e-02,  1.18e-02,  1.73e-02, -1.50e-02,  8.12e-02, -1.58e-02], [], [-0.01], [ 1.  ,  0.07,  2.  ,  1.  ], [], [0.07], [ 2.], [1.]),\n",
       "           (['C01Q1'], [1, 1], ['F1B06'], [], [], [], [], [0.01], [-2.06e-01,  5.71e-02, -1.04e+01,  1.50e-01,  3.98e-02,  6.06e-03,  1.09e+00,  8.56e-02,  1.13e-01, -2.69e-02, -1.18e+00, -1.28e-01,  2.58e-03, -6.78e-03, -4.55e-02,  6.69e-05,  3.12e-02,  5.84e-03, -3.21e-02, -1.06e-02], [], [-0.01], [ 1.  ,  0.11, 18.  ,  1.  ], [], [0.11], [18.], [1.]),\n",
       "           (['C01Q1'], [1, 1], ['F1B07'], [], [], [], [], [0.01], [-2.12e-01,  4.62e-02, -2.28e+00, -3.00e-02,  2.39e-03, -1.32e-02,  3.31e-01, -1.73e-01, -2.26e-01,  3.13e-01,  1.04e+00,  1.99e-01,  9.92e-04,  1.84e-02,  8.16e-02,  3.50e-02,  2.79e-02,  1.32e-02,  4.75e-02,  2.68e-02], [], [ 0.02], [ 1.  ,  0.13,  4.  ,  1.  ], [], [0.13], [ 4.], [1.]),\n",
       "           ...,\n",
       "           (['C65Q2'], [4, 4], ['F4B10'], [], [], [], [], [0.  ], [-1.20e-01, -3.24e-04, -1.11e+00,  1.75e-01,  3.62e-02, -1.86e-02,  2.36e-01,  5.40e-02, -3.24e-01,  8.74e-02,  2.71e+00,  1.56e-01,  8.84e-04,  3.76e-02,  1.93e-02, -5.24e-02, -1.81e-02,  3.67e-02, -5.76e-02,  3.57e-02], [], [ 0.03], [ 1.  ,  0.14,  6.  ,  0.  ], [], [0.14], [ 6.], [0.]),\n",
       "           (['C65Q2'], [4, 4], ['F4B12'], [], [], [], [], [0.01], [-2.02e-01,  3.34e-04, -5.07e-01, -4.54e-03,  3.16e-02,  6.08e-03,  5.67e-01,  2.29e-02,  1.10e-01,  1.85e-01,  2.13e+00,  1.28e-01, -8.09e-03, -1.18e-02, -3.63e-02, -4.33e-03, -1.74e-02, -6.65e-03,  7.23e-03, -1.54e-02], [], [-0.  ], [ 1.  ,  0.1 , 12.  ,  0.  ], [], [0.1 ], [12.], [0.]),\n",
       "           (['C65Q2'], [6, 6], ['F6B18'], [], [], [], [], [0.03], [-1.39e-01,  3.47e-03, -2.85e-01,  2.91e-01,  3.93e-02,  2.02e-02, -1.95e+00, -3.97e-02,  3.80e-01,  1.08e-01,  3.37e+00,  1.07e-01, -6.14e-03, -1.18e-03, -4.69e-02, -2.36e-02, -2.14e-02, -2.94e-02, -2.60e-02, -2.54e-02], [], [-0.01], [ 1.  ,  0.13,  0.  ,  0.  ], [], [0.13], [ 0.], [0.])],\n",
       "          dtype=[('market_ids', 'O', (1,)), ('firm_ids', 'O', (2,)), ('demand_ids', 'O', (1,)), ('supply_ids', 'O', (0,)), ('nesting_ids', 'O', (0,)), ('clustering_ids', 'O', (0,)), ('ownership', '<f8', (0,)), ('shares', '<f8', (1,)), ('ZD', '<f8', (20,)), ('ZS', '<f8', (0,)), (((prices,), 'X1'), '<f8', (1,)), (((1, prices, sugar, mushy), 'X2'), '<f8', (4,)), (((), 'X3'), '<f8', (0,)), ('prices', '<f8', (1,)), ('sugar', '<f8', (1,)), ('mushy', '<f8', (1,))])"
      ]
     },
     "execution_count": 12,
     "metadata": {},
     "output_type": "execute_result"
    }
   ],
   "source": [
    "problem.products"
   ]
  },
  {
   "cell_type": "code",
   "execution_count": 13,
   "metadata": {},
   "outputs": [
    {
     "data": {
      "text/plain": [
       "rec.array([(['C01Q1'], [0.05], [ 4.34e-01, -1.50e+00, -1.15e+00,  1.61e-01], [ 4.95e-01,  8.33e+00, -2.30e-01, -2.31e-01]),\n",
       "           (['C01Q1'], [0.05], [-7.27e-01,  1.33e-01, -5.01e-01,  1.30e-01], [ 3.79e-01,  6.12e+00, -2.53e+00,  7.69e-01]),\n",
       "           (['C01Q1'], [0.05], [-6.23e-01, -1.38e-01,  7.97e-01, -7.96e-01], [ 1.05e-01,  1.03e+00, -6.97e-03, -2.31e-01]),\n",
       "           ...,\n",
       "           (['C65Q2'], [0.05], [-1.42e+00, -7.30e-01,  6.97e-01,  7.49e-01], [ 8.92e-01,  1.61e+01,  2.71e-01, -2.31e-01]),\n",
       "           (['C65Q2'], [0.05], [ 3.20e-01,  1.57e-01,  1.35e+00,  1.77e+00], [-2.96e+00, -4.57e+01, -1.84e+00,  7.69e-01]),\n",
       "           (['C65Q2'], [0.05], [ 7.83e-01, -2.39e-01, -7.36e-04, -2.10e+00], [-5.17e-01, -9.98e+00, -1.84e+00,  7.69e-01])],\n",
       "          dtype=[('market_ids', 'O', (1,)), ('weights', '<f8', (1,)), ('nodes', '<f8', (4,)), (((income, income_squared, age, child), 'demographics'), '<f8', (4,))])"
      ]
     },
     "execution_count": 13,
     "metadata": {},
     "output_type": "execute_result"
    }
   ],
   "source": [
    "problem.agents"
   ]
  },
  {
   "cell_type": "markdown",
   "metadata": {},
   "source": [
    "The initialized problem can be solved with `pyblp.Problem.solve`. We'll use the same starting values as [Nevo (2000)](../../references.rst#nevo-2000). By passing a diagonal matrix of ones as starting values for $\\Sigma$, we're choosing to optimize over only variance terms. Similarly, zeros in the starting values for $\\Pi$ mean that those parameters will be fixed at zero. To solve the problem, we'll use a non-default unbounded optimization routine that is similar to the default one in Matlab often used to replicate the paper."
   ]
  },
  {
   "cell_type": "code",
   "execution_count": 16,
   "metadata": {},
   "outputs": [
    {
     "data": {
      "text/plain": [
       "Problem Results Summary:\n",
       "===========================================================================================================\n",
       "Cumulative  GMM   Optimization   Objective   Total Fixed Point  Total Contraction  Objective    Gradient   \n",
       "Total Time  Step   Iterations   Evaluations     Iterations         Evaluations       Value    Infinity Norm\n",
       "----------  ----  ------------  -----------  -----------------  -----------------  ---------  -------------\n",
       " 0:00:27     2         25           54             24672              78616        +1.38E+04    +1.29E-04  \n",
       "===========================================================================================================\n",
       "\n",
       "Linear Estimates (Robust SEs in Parentheses):\n",
       "==================\n",
       "Beta:    prices   \n",
       "-----  -----------\n",
       "        -6.03E+01 \n",
       "       (+1.37E+01)\n",
       "==================\n",
       "\n",
       "Nonlinear Estimates (Robust SEs in Parentheses):\n",
       "============================================================================================================================\n",
       "Sigma:       1         prices        sugar        mushy     |   Pi:      income     income_squared      age         child   \n",
       "------  -----------  -----------  -----------  -----------  |  ------  -----------  --------------  -----------  -----------\n",
       "  1      +5.45E-01    +0.00E+00    +0.00E+00    +0.00E+00   |    1      +2.26E+00     +0.00E+00      +1.32E+00    +0.00E+00 \n",
       "        (+1.55E-01)                                         |          (+1.16E+00)                  (+6.50E-01)             \n",
       "                                                            |                                                               \n",
       "prices                +3.07E+00    +0.00E+00    +0.00E+00   |  prices   +5.45E+02     -2.79E+01      +0.00E+00    +1.13E+01 \n",
       "                     (+1.24E+00)                            |          (+2.51E+02)   (+1.31E+01)                 (+4.13E+00)\n",
       "                                                            |                                                               \n",
       "sugar                              -5.05E-03    +0.00E+00   |  sugar    -3.69E-01     +0.00E+00      +5.09E-02    +0.00E+00 \n",
       "                                  (+1.32E-02)               |          (+1.13E-01)                  (+2.53E-02)             \n",
       "                                                            |                                                               \n",
       "mushy                                           +7.92E-02   |  mushy    +8.11E-01     +0.00E+00      -1.39E+00    +0.00E+00 \n",
       "                                               (+1.85E-01)  |          (+7.62E-01)                  (+6.84E-01)             \n",
       "============================================================================================================================"
      ]
     },
     "execution_count": 16,
     "metadata": {},
     "output_type": "execute_result"
    }
   ],
   "source": [
    "initial_sigma = np.diag([0.3302, 2.4526, 0.0163, 0.2441])\n",
    "initial_pi = [\n",
    "  [ 5.4819,  0,      0.2037,  0     ],\n",
    "  [15.8935, -1.2000, 0,       2.6342],\n",
    "  [-0.2506,  0,      0.0511,  0     ],\n",
    "  [ 1.2650,  0,     -0.8091,  0     ]\n",
    "]\n",
    "results = problem.solve(\n",
    "   initial_sigma,\n",
    "   initial_pi,\n",
    "   optimization=pyblp.Optimization('bfgs')\n",
    ")\n",
    "results"
   ]
  },
  {
   "cell_type": "markdown",
   "metadata": {},
   "source": [
    "Results are similar to those in the original paper. Note that one of the estimated terms on the diagonal of $\\Sigma$ is negative. Since the diagonal consists of standard deviations, negative values are unrealistic. When using another optimization routine (like the default L-BFGS-B routine) that supports bounds, these diagonal elements are by default bounded from below by zero. In the next example we'll use the default routine.\n",
    "\n",
    "\n",
    "## Problem Results\n",
    "\n",
    "The `pyblp.Problem.solve` method returns a `pyblp.ProblemResults` class, which, when printed, displays basic estimation results. The results that are displayed are simply formatted information extracted from various class attributes such as `pyblp.ProblemResults.sigma` and `pyblp.ProblemResults.sigma_se`.\n",
    "\n",
    "Additional post-estimation outputs can be computed with `pyblp.ProblemResults` methods.\n",
    "\n",
    "\n",
    "### Elasticities and Diversion Ratios\n",
    "\n",
    "We can estimate elasticities, $\\varepsilon$, and diversion ratios, $\\mathscr{D}$, with `pyblp.ProblemResults.compute_elasticities` and `pyblp.ProblemResults.compute_diversion_ratios`."
   ]
  },
  {
   "cell_type": "code",
   "execution_count": 18,
   "metadata": {},
   "outputs": [],
   "source": [
    "elasticities = results.compute_elasticities()\n",
    "ratios = results.compute_diversion_ratios()"
   ]
  },
  {
   "cell_type": "markdown",
   "metadata": {},
   "source": [
    "Post-estimation outputs are computed for each market and stacked. We'll use `matplotlib.pyplot.matshow` and `matplotlib.pyplot.colorbar` to display the matrices associated with a single market."
   ]
  },
  {
   "cell_type": "code",
   "execution_count": 20,
   "metadata": {},
   "outputs": [
    {
     "data": {
      "image/png": "[encoded data removed]",
      "text/plain": [
       "<Figure size 288x288 with 2 Axes>"
      ]
     },
     "metadata": {},
     "output_type": "display_data"
    }
   ],
   "source": [
    "single_market = nevo_product_data['market_ids'] == 'C01Q1'\n",
    "plt.colorbar(plt.matshow(elasticities[single_market]));"
   ]
  },
  {
   "cell_type": "code",
   "execution_count": 21,
   "metadata": {},
   "outputs": [
    {
     "data": {
      "image/png": "[encoded data removed]",
      "text/plain": [
       "<Figure size 288x288 with 2 Axes>"
      ]
     },
     "metadata": {},
     "output_type": "display_data"
    }
   ],
   "source": [
    "plt.colorbar(plt.matshow(ratios[single_market]));"
   ]
  },
  {
   "cell_type": "markdown",
   "metadata": {},
   "source": [
    "The diagonal of the first image consists of own elasticities and the diagonal of the second image consists of diversion ratios to the outside good.\n",
    "\n",
    "Elasticities and diversion ratios can be computed with respect to variables other than `prices` with the `name` argument of `pyblp.ProblemResults.compute_elasticities` and `pyblp.ProblemResults.compute_diversion_ratios`. Additionally, the `pyblp.ProblemResults.compute_long_run_diversion_ratios` can be used to used to understand substitution when products are eliminated from the choice set.\n",
    "\n",
    "The convenience methods `pyblp.ProblemResults.extract_diagonals` and `pyblp.ProblemResults.extract_diagonal_means` can be used to extract information about own elasticities of demand from elasticity matrices."
   ]
  },
  {
   "cell_type": "code",
   "execution_count": 23,
   "metadata": {},
   "outputs": [],
   "source": [
    "means = results.extract_diagonal_means(elasticities)"
   ]
  },
  {
   "cell_type": "markdown",
   "metadata": {},
   "source": [
    "An alternative to summarizing full elasticity matrices is to use `pyblp.ProblemResults.compute_aggregate_elasticities` to estimate aggregate elasticities of demand, $E$, in each market, which reflect the change in total sales under a proportional sales tax of some factor."
   ]
  },
  {
   "cell_type": "code",
   "execution_count": 24,
   "metadata": {},
   "outputs": [],
   "source": [
    "aggregates = results.compute_aggregate_elasticities(factor=0.1)"
   ]
  },
  {
   "cell_type": "markdown",
   "metadata": {},
   "source": [
    "Since demand for an entire product category is generally less elastic than the average elasticity of individual products, mean own elasticities are generally larger in magnitude than aggregate elasticities."
   ]
  },
  {
   "cell_type": "code",
   "execution_count": 45,
   "metadata": {},
   "outputs": [
    {
     "data": {
      "image/png": "[encoded data removed]",
      "text/plain": [
       "<Figure size 432x288 with 1 Axes>"
      ]
     },
     "metadata": {},
     "output_type": "display_data"
    }
   ],
   "source": [
    "plt.hist([means.flatten(), aggregates.flatten()], color=['red', 'blue'], bins=50);"
   ]
  },
  {
   "cell_type": "markdown",
   "metadata": {},
   "source": [
    "### Marginal Costs and Markups\n",
    "\n",
    "To compute marginal costs, $c$, the `product_data` passed to `pyblp.Problem` must have had a `firm_ids` field. Since we included firm IDs when configuring the problem, we can use `pyblp.ProblemResults.compute_costs`."
   ]
  },
  {
   "cell_type": "code",
   "execution_count": 32,
   "metadata": {},
   "outputs": [],
   "source": [
    "costs = results.compute_costs()"
   ]
  },
  {
   "cell_type": "markdown",
   "metadata": {},
   "source": [
    "Other methods that compute supply-side outputs often compute marginal costs themselves. For example, `pyblp.ProblemResults.compute_markups` will compute marginal costs when estimating markups, $\\mathscr{M}$, but computation can be sped up if we just use our pre-computed values."
   ]
  },
  {
   "cell_type": "code",
   "execution_count": 36,
   "metadata": {},
   "outputs": [
    {
     "data": {
      "image/png": "[encoded data removed]",
      "text/plain": [
       "<Figure size 432x288 with 1 Axes>"
      ]
     },
     "metadata": {},
     "output_type": "display_data"
    }
   ],
   "source": [
    "markups = results.compute_markups(costs=costs)\n",
    "plt.hist(markups, bins=50);"
   ]
  },
  {
   "cell_type": "markdown",
   "metadata": {},
   "source": [
    "### Mergers\n",
    "\n",
    "Before computing post-merger outputs, we'll supplement our pre-merger markups with some other outputs. We'll compute Herfindahl-Hirschman Indices, $\\text{HHI}$, with `pyblp.ProblemResults.compute_hhi`; population-normalized gross expected profits, $\\pi$, with `pyblp.ProblemResults.compute_profits`; and population-normalized consumer surpluses, $\\text{CS}$, with `pyblp.ProblemResults.compute_consumer_surpluses`."
   ]
  },
  {
   "cell_type": "code",
   "execution_count": 37,
   "metadata": {},
   "outputs": [],
   "source": [
    "hhi = results.compute_hhi()\n",
    "profits = results.compute_profits(costs=costs)\n",
    "cs = results.compute_consumer_surpluses()"
   ]
  },
  {
   "cell_type": "markdown",
   "metadata": {},
   "source": [
    "To compute post-merger outputs, the `firm_ids` field in the `product_data` passed to `pyblp.Problem` must have had at least two columns. Columns after the first represent changes, such as mergers. Although mergers are commonly what firm ID changes represent, these additional columns can represent any type of change.\n",
    "\n",
    "Since we included two columns of firm IDs when configuring the problem, we can use `pyblp.ProblemResults.compute_approximate_prices` or `pyblp.ProblemResults.compute_prices` to estimate post-merger prices. The first method, which is discussed, for example, in [Nevo (1997)](../../references.rst#nevo-1997), assumes that shares and their price derivatives are unaffected by the merger. The second method does not make these assumptions and iterates over the $\\zeta$-markup equation from [Morrow and Skerlos (2011)](../../references.rst#morrow-and-skerlos-2011) to solve the full system of $J_t$ equations and $J_t$ unknowns in each market $t$. We'll use the latter, since it is fast enough for this example problem."
   ]
  },
  {
   "cell_type": "code",
   "execution_count": 39,
   "metadata": {},
   "outputs": [],
   "source": [
    "changed_prices = results.compute_prices(costs=costs)"
   ]
  },
  {
   "cell_type": "markdown",
   "metadata": {},
   "source": [
    "If the problem was configured with more than two columns of firm IDs, we could estimate post-merger prices for the other mergers with the `firms_index` argument, which is by default `1`.\n",
    "\n",
    "We'll compute post-merger shares with `pyblp.ProblemResults.compute_shares`."
   ]
  },
  {
   "cell_type": "code",
   "execution_count": 40,
   "metadata": {},
   "outputs": [],
   "source": [
    "changed_shares = results.compute_shares(changed_prices)"
   ]
  },
  {
   "cell_type": "markdown",
   "metadata": {},
   "source": [
    "Post-merger prices and shares are used to compute other post-merger outputs. For example, $\\text{HHI}$ increases."
   ]
  },
  {
   "cell_type": "code",
   "execution_count": 41,
   "metadata": {},
   "outputs": [
    {
     "data": {
      "image/png": "[encoded data removed]",
      "text/plain": [
       "<Figure size 432x288 with 1 Axes>"
      ]
     },
     "metadata": {},
     "output_type": "display_data"
    }
   ],
   "source": [
    "changed_hhi = results.compute_hhi(firms_index=1, shares=changed_shares)\n",
    "plt.hist(changed_hhi - hhi, bins=50);"
   ]
  },
  {
   "cell_type": "markdown",
   "metadata": {},
   "source": [
    "Markups, $\\mathscr{M}$, and profits, $\\pi$, generally increase as well."
   ]
  },
  {
   "cell_type": "code",
   "execution_count": 42,
   "metadata": {},
   "outputs": [
    {
     "data": {
      "image/png": "[encoded data removed]",
      "text/plain": [
       "<Figure size 432x288 with 1 Axes>"
      ]
     },
     "metadata": {},
     "output_type": "display_data"
    }
   ],
   "source": [
    "changed_markups = results.compute_markups(changed_prices, costs)\n",
    "plt.hist(changed_markups - markups, bins=50);"
   ]
  },
  {
   "cell_type": "code",
   "execution_count": 43,
   "metadata": {},
   "outputs": [
    {
     "data": {
      "image/png": "[encoded data removed]",
      "text/plain": [
       "<Figure size 432x288 with 1 Axes>"
      ]
     },
     "metadata": {},
     "output_type": "display_data"
    }
   ],
   "source": [
    "changed_profits = results.compute_profits(changed_prices, changed_shares, costs)\n",
    "plt.hist(changed_profits - profits, bins=50);"
   ]
  },
  {
   "cell_type": "markdown",
   "metadata": {},
   "source": [
    "On the other hand, consumer surpluses, $\\text{CS}$, generally decrease."
   ]
  },
  {
   "cell_type": "code",
   "execution_count": 44,
   "metadata": {},
   "outputs": [
    {
     "data": {
      "image/png": "[encoded data removed]",
      "text/plain": [
       "<Figure size 432x288 with 1 Axes>"
      ]
     },
     "metadata": {},
     "output_type": "display_data"
    }
   ],
   "source": [
    "changed_cs = results.compute_consumer_surpluses(changed_prices)\n",
    "plt.hist(changed_cs - cs, bins=50);"
   ]
  },
  {
   "cell_type": "markdown",
   "metadata": {},
   "source": [
    "## Bootstrapping Results\n",
    "\n",
    "Post-estimation outputs can be informative, but they don't mean much without a sense sample-to-sample variability. One way to estimate confidence intervals for post-estimation outputs is with a standard bootstrap procedure:\n",
    "\n",
    "1. Construct a large number of bootstrap samples by sampling with replacement from the original product data.\n",
    "2. Initialize and solve a `pyblp.Problem` for each bootstrap sample.\n",
    "3. Compute the desired post-estimation output for each bootstrapped `pyblp.ProblemResults` and from the resulting empirical distribution, construct boostrap confidence intervals.\n",
    "\n",
    "Although appealing because of its simplicity, the computational resources required for this procedure are often prohibatively expensive. Furthermore, human oversight of the optimization routine is often required to determine whether the routine ran into any problems and if it successfully converged. Human oversight of estimation for each bootstrapped problem is usually not feasible.\n",
    "\n",
    "A more reasonable alternative is a parametric bootstrap procedure:\n",
    "\n",
    "1. Construct a large number of draws from the estimated joint distribution of parameters.\n",
    "2. Compute the implied mean utility, $\\delta$, and shares, $s$, for each draw. If a supply side was estimated, also computed the implied marginal costs, $c$, and prices, $p$.\n",
    "3. Compute the desired post-estimation output under each of these parametric bootstrap samples. Again, from the resulting empirical distribution, construct boostrap confidence intervals.\n",
    "\n",
    "Compared to the standard bootstrap procedure, the parametric bootstrap requires far fewer computational resources, and is simple enough to not require human oversight of each bootstrap iteration. The primary complication to this procedure is that when supply is estimated, equilibrium prices and shares need to be computed for each parametric bootstrap sample by iterating over the $\\zeta$-markup equation from [Morrow and Skerlos (2011)](../../references.rst#morrow-and-skerlos-2011). Although nontrivial, this fixed point iteration problem is much less demanding than the full optimization routine required to solve the BLP problem from the start.\n",
    "\n",
    "An empirical distribution of results computed according to this parametric bootstrap procedure can be created with the `pyblp.ProblemResults.bootstrap` method, which returns a `pyblp.BootstrappedProblemResults` class that can be used just like `pyblp.ProblemResults` to compute various post-estimation outputs. The difference is that `pyblp.BootstrappedProblemResults` methods return arrays with an extra first dimension, along which bootstrapped results are stacked.\n",
    "\n",
    "We'll construct 90% parametric bootstrap confidence intervals for estimated consumer surpluses in each market of the fake cereal problem. Usually, bootstrapped confidence intervals should be based on thousands of draws, but we'll only use a few for the sake of speed in this example."
   ]
  },
  {
   "cell_type": "code",
   "execution_count": 47,
   "metadata": {},
   "outputs": [
    {
     "data": {
      "text/plain": [
       "Bootstrapped Problem Results Summary:\n",
       "======================\n",
       "Computation  Bootstrap\n",
       "   Time        Draws  \n",
       "-----------  ---------\n",
       "  0:00:02       50    \n",
       "======================"
      ]
     },
     "execution_count": 47,
     "metadata": {},
     "output_type": "execute_result"
    }
   ],
   "source": [
    "bootstrapped_results = results.bootstrap(draws=50, seed=0)\n",
    "bootstrapped_results"
   ]
  },
  {
   "cell_type": "code",
   "execution_count": 49,
   "metadata": {},
   "outputs": [
    {
     "data": {
      "text/plain": [
       "array([[-0.29,  0.02,  0.21],\n",
       "       [-0.27,  0.03,  0.05],\n",
       "       [-0.37,  0.03,  0.17],\n",
       "       ...,\n",
       "       [-0.28,  0.05,  0.14],\n",
       "       [-0.24,  0.02,  0.16],\n",
       "       [-0.25,  0.02,  0.16]])"
      ]
     },
     "execution_count": 49,
     "metadata": {},
     "output_type": "execute_result"
    }
   ],
   "source": [
    "cs_ci = np.percentile(bootstrapped_results.compute_consumer_surpluses(), q=[10, 90], axis=0)\n",
    "np.c_[cs_ci[0], cs, cs_ci[1]]"
   ]
  },
  {
   "cell_type": "markdown",
   "metadata": {},
   "source": [
    "## Optimal Instruments\n",
    "\n",
    "Given a consistent estimate of $\\theta$, we may want to compute [Chamberlain's (1987)](../../references.rst#chamberlain-1987) optimal instruments and use them to re-solve the problem. Optimal instruments have been shown, for example, by [Reynaert and Verboven (2014)](../../references.rst#reynaert-and-verboven-2014), to reduce bias, improve efficiency, and enhance stability of BLP estimates.\n",
    "\n",
    "The `pyblp.ProblemResults.compute_optimal_instruments` method computes the expected Jacobians that comprise the optimal instruments by integrating over the density of $\\xi$ (and $\\omega$ if a supply side was estimated). Since we didn't specify a supply side in the fake cereal problem, we need to supply an estimate of $\\operatorname{\\mathbb{E}}[p \\mid Z]$. We'll use the convenience function `pyblp.compute_fitted_values` to estimate this vector with a reduced form regression of endogenous prices onto the full set of instruments: excluded instruments and the absorbed product IDs that constitute $X_1$."
   ]
  },
  {
   "cell_type": "code",
   "execution_count": 50,
   "metadata": {},
   "outputs": [],
   "source": [
    "instrument_formulation = pyblp.Formulation(\n",
    "    ' + '.join(f'demand_instruments{i}' for i in range(20)), \n",
    "    absorb='C(product_ids)'\n",
    ")\n",
    "expected_prices = pyblp.compute_fitted_values(\n",
    "    product_data['prices'],\n",
    "    instrument_formulation,\n",
    "    product_data\n",
    ")"
   ]
  },
  {
   "cell_type": "markdown",
   "metadata": {},
   "source": [
    "By default, `pyblp.ProblemResults.compute_optimal_instruments` approximates an integral over the density of the error terms by averaging over Jacobian realizations computed under draws from the asymptotic normal distribution of the error terms. For the sake of speed in this example, we'll use `method='approximate'` to simply evaluate the Jacobians at the expected value of $\\xi$, zero."
   ]
  },
  {
   "cell_type": "code",
   "execution_count": 51,
   "metadata": {},
   "outputs": [
    {
     "data": {
      "text/plain": [
       "Optimal Instrument Results Summary:\n",
       "=======================\n",
       "Computation  Error Term\n",
       "   Time        Draws   \n",
       "-----------  ----------\n",
       "  0:00:00        1     \n",
       "======================="
      ]
     },
     "execution_count": 51,
     "metadata": {},
     "output_type": "execute_result"
    }
   ],
   "source": [
    "instrument_results = results.compute_optimal_instruments(method='approximate',  expected_prices=expected_prices)\n",
    "instrument_results"
   ]
  },
  {
   "cell_type": "markdown",
   "metadata": {},
   "source": [
    "We can use the `pyblp.OptimalInstrumentResults.to_problem` method to re-create the fake cereal problem with the estimated optimal excluded instruments."
   ]
  },
  {
   "cell_type": "code",
   "execution_count": 53,
   "metadata": {},
   "outputs": [
    {
     "data": {
      "text/plain": [
       "Dimensions:\n",
       "========================================================================================================================================================================================\n",
       "   N:       T:              K1:                       K2:                     K3:                D:              MD:                 MS:             ED:         ES:            H:      \n",
       "Products  Markets  Linear Characteristics  Nonlinear Characteristics  Cost Characteristics  Demographics  Demand Instruments  Supply Instruments  Demand FEs  Supply FEs  Nesting Groups\n",
       "--------  -------  ----------------------  -------------------------  --------------------  ------------  ------------------  ------------------  ----------  ----------  --------------\n",
       "  2256      94               1                         4                       0                 4                14                  0               1           0             0       \n",
       "========================================================================================================================================================================================\n",
       "\n",
       "Formulations:\n",
       "===================================================================\n",
       "       Column Indices:           0           1           2      3  \n",
       "-----------------------------  ------  --------------  -----  -----\n",
       " X1: Linear Characteristics    prices                              \n",
       "X2: Nonlinear Characteristics    1         prices      sugar  mushy\n",
       "       d: Demographics         income  income_squared   age   child\n",
       "==================================================================="
      ]
     },
     "execution_count": 53,
     "metadata": {},
     "output_type": "execute_result"
    }
   ],
   "source": [
    "updated_problem = instrument_results.to_problem()\n",
    "updated_problem"
   ]
  },
  {
   "cell_type": "markdown",
   "metadata": {},
   "source": [
    "We can solve this updated problem just like the original one. We'll start at our consistent estimate of $\\theta$."
   ]
  },
  {
   "cell_type": "code",
   "execution_count": 55,
   "metadata": {},
   "outputs": [
    {
     "data": {
      "text/plain": [
       "Problem Results Summary:\n",
       "===========================================================================================================\n",
       "Cumulative  GMM   Optimization   Objective   Total Fixed Point  Total Contraction  Objective    Gradient   \n",
       "Total Time  Step   Iterations   Evaluations     Iterations         Evaluations       Value    Infinity Norm\n",
       "----------  ----  ------------  -----------  -----------------  -----------------  ---------  -------------\n",
       " 0:00:19     2         16           26             8361               26882        +2.27E-18    +7.65E-07  \n",
       "===========================================================================================================\n",
       "\n",
       "Linear Estimates (Robust SEs in Parentheses):\n",
       "==================\n",
       "Beta:    prices   \n",
       "-----  -----------\n",
       "        -3.11E+01 \n",
       "       (+4.70E+00)\n",
       "==================\n",
       "\n",
       "Nonlinear Estimates (Robust SEs in Parentheses):\n",
       "============================================================================================================================\n",
       "Sigma:       1         prices        sugar        mushy     |   Pi:      income     income_squared      age         child   \n",
       "------  -----------  -----------  -----------  -----------  |  ------  -----------  --------------  -----------  -----------\n",
       "  1      +2.17E-01    +0.00E+00    +0.00E+00    +0.00E+00   |    1      +6.04E+00     +0.00E+00      +1.61E-01    +0.00E+00 \n",
       "        (+7.77E-02)                                         |          (+5.37E-01)                  (+2.03E-01)             \n",
       "                                                            |                                                               \n",
       "prices                +2.98E+00    +0.00E+00    +0.00E+00   |  prices   +9.29E+01     -5.27E+00      +0.00E+00    +4.06E+00 \n",
       "                     (+6.50E-01)                            |          (+8.92E+01)   (+4.62E+00)                 (+2.26E+00)\n",
       "                                                            |                                                               \n",
       "sugar                              +2.66E-02    +0.00E+00   |  sugar    -3.10E-01     +0.00E+00      +4.90E-02    +0.00E+00 \n",
       "                                  (+7.17E-03)               |          (+3.48E-02)                  (+1.34E-02)             \n",
       "                                                            |                                                               \n",
       "mushy                                           +2.95E-01   |  mushy    +9.82E-01     +0.00E+00      -5.37E-01    +0.00E+00 \n",
       "                                               (+1.01E-01)  |          (+2.79E-01)                  (+1.81E-01)             \n",
       "============================================================================================================================"
      ]
     },
     "execution_count": 55,
     "metadata": {},
     "output_type": "execute_result"
    }
   ],
   "source": [
    "updated_results = updated_problem.solve(\n",
    "    results.sigma,\n",
    "    results.pi, \n",
    "    optimization=pyblp.Optimization('bfgs')\n",
    ")\n",
    "updated_results"
   ]
  }
 ],
 "metadata": {
  "kernelspec": {
   "display_name": "Python 3",
   "language": "python",
   "name": "python3"
  },
  "language_info": {
   "codemirror_mode": {
    "name": "ipython",
    "version": 3
   },
   "file_extension": ".py",
   "mimetype": "text/x-python",
   "name": "python",
   "nbconvert_exporter": "python",
   "pygments_lexer": "ipython3",
   "version": "3.6.6"
  }
 },
 "nbformat": 4,
 "nbformat_minor": 2
}
